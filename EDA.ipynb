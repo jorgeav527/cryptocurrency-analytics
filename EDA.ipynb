{
 "cells": [
  {
   "cell_type": "code",
   "execution_count": 1,
   "id": "d9261ae8",
   "metadata": {},
   "outputs": [
    {
     "data": {
      "application/javascript": [
       "\n",
       "            setTimeout(function() {\n",
       "                var nbb_cell_id = 1;\n",
       "                var nbb_unformatted_code = \"%load_ext nb_black\";\n",
       "                var nbb_formatted_code = \"%load_ext nb_black\";\n",
       "                var nbb_cells = Jupyter.notebook.get_cells();\n",
       "                for (var i = 0; i < nbb_cells.length; ++i) {\n",
       "                    if (nbb_cells[i].input_prompt_number == nbb_cell_id) {\n",
       "                        if (nbb_cells[i].get_text() == nbb_unformatted_code) {\n",
       "                             nbb_cells[i].set_text(nbb_formatted_code);\n",
       "                        }\n",
       "                        break;\n",
       "                    }\n",
       "                }\n",
       "            }, 500);\n",
       "            "
      ],
      "text/plain": [
       "<IPython.core.display.Javascript object>"
      ]
     },
     "metadata": {},
     "output_type": "display_data"
    }
   ],
   "source": [
    "%load_ext nb_black"
   ]
  },
  {
   "cell_type": "markdown",
   "id": "e16825fa",
   "metadata": {},
   "source": [
    "Let's import all we are going to need"
   ]
  },
  {
   "cell_type": "code",
   "execution_count": 61,
   "id": "5495f1c2",
   "metadata": {},
   "outputs": [
    {
     "data": {
      "application/javascript": [
       "\n",
       "            setTimeout(function() {\n",
       "                var nbb_cell_id = 61;\n",
       "                var nbb_unformatted_code = \"import streamlit as st\\nimport pandas as pd\\nimport numpy as np\\nfrom PIL import Image\\nimport requests\\nimport plotly.graph_objects as go\\nimport plotly.express as px\\nimport ccxt\\nimport os\\nfrom dotenv import load_dotenv\\nfrom datetime import date, datetime\\nimport time\\nimport calendar\\nfrom plotly.subplots import make_subplots\\n\\nfrom dashboard.static import *\\n\\npd.set_option(\\\"display.max_columns\\\", None)  # To show all columns\";\n",
       "                var nbb_formatted_code = \"import streamlit as st\\nimport pandas as pd\\nimport numpy as np\\nfrom PIL import Image\\nimport requests\\nimport plotly.graph_objects as go\\nimport plotly.express as px\\nimport ccxt\\nimport os\\nfrom dotenv import load_dotenv\\nfrom datetime import date, datetime\\nimport time\\nimport calendar\\nfrom plotly.subplots import make_subplots\\n\\nfrom dashboard.static import *\\n\\npd.set_option(\\\"display.max_columns\\\", None)  # To show all columns\";\n",
       "                var nbb_cells = Jupyter.notebook.get_cells();\n",
       "                for (var i = 0; i < nbb_cells.length; ++i) {\n",
       "                    if (nbb_cells[i].input_prompt_number == nbb_cell_id) {\n",
       "                        if (nbb_cells[i].get_text() == nbb_unformatted_code) {\n",
       "                             nbb_cells[i].set_text(nbb_formatted_code);\n",
       "                        }\n",
       "                        break;\n",
       "                    }\n",
       "                }\n",
       "            }, 500);\n",
       "            "
      ],
      "text/plain": [
       "<IPython.core.display.Javascript object>"
      ]
     },
     "metadata": {},
     "output_type": "display_data"
    }
   ],
   "source": [
    "import streamlit as st\n",
    "import pandas as pd\n",
    "import numpy as np\n",
    "from PIL import Image\n",
    "import requests\n",
    "import plotly.graph_objects as go\n",
    "import plotly.express as px\n",
    "import ccxt\n",
    "import os\n",
    "from dotenv import load_dotenv\n",
    "from datetime import date, datetime\n",
    "import time\n",
    "import calendar\n",
    "from plotly.subplots import make_subplots\n",
    "\n",
    "from dashboard.static import *\n",
    "\n",
    "pd.set_option(\"display.max_columns\", None)  # To show all columns"
   ]
  },
  {
   "cell_type": "markdown",
   "id": "b8c8cb88",
   "metadata": {},
   "source": [
    "Les's use the API"
   ]
  },
  {
   "cell_type": "code",
   "execution_count": 3,
   "id": "09b20ea2",
   "metadata": {},
   "outputs": [
    {
     "data": {
      "application/javascript": [
       "\n",
       "            setTimeout(function() {\n",
       "                var nbb_cell_id = 3;\n",
       "                var nbb_unformatted_code = \"api_url = \\\"https://ftx.com/api\\\"\";\n",
       "                var nbb_formatted_code = \"api_url = \\\"https://ftx.com/api\\\"\";\n",
       "                var nbb_cells = Jupyter.notebook.get_cells();\n",
       "                for (var i = 0; i < nbb_cells.length; ++i) {\n",
       "                    if (nbb_cells[i].input_prompt_number == nbb_cell_id) {\n",
       "                        if (nbb_cells[i].get_text() == nbb_unformatted_code) {\n",
       "                             nbb_cells[i].set_text(nbb_formatted_code);\n",
       "                        }\n",
       "                        break;\n",
       "                    }\n",
       "                }\n",
       "            }, 500);\n",
       "            "
      ],
      "text/plain": [
       "<IPython.core.display.Javascript object>"
      ]
     },
     "metadata": {},
     "output_type": "display_data"
    }
   ],
   "source": [
    "api_url = \"https://ftx.com/api\""
   ]
  },
  {
   "cell_type": "markdown",
   "id": "f1697bdf",
   "metadata": {},
   "source": [
    "Let's connect with the API using CCXT"
   ]
  },
  {
   "cell_type": "code",
   "execution_count": 4,
   "id": "6617e4ce",
   "metadata": {},
   "outputs": [
    {
     "data": {
      "application/javascript": [
       "\n",
       "            setTimeout(function() {\n",
       "                var nbb_cell_id = 4;\n",
       "                var nbb_unformatted_code = \"# read .env file\\nload_dotenv()\\n\\n# connect exchange with ccxt\\nexchange_id = \\\"ftx\\\"\\nexchange_class = getattr(ccxt, exchange_id)\\nexchange = exchange_class(\\n    {\\n        \\\"enableRateLimit\\\": True,\\n        \\\"apiKey\\\": os.environ.get(\\\"APIKey\\\"),\\n        \\\"secret\\\": os.environ.get(\\\"APISecret\\\"),\\n    }\\n)\";\n",
       "                var nbb_formatted_code = \"# read .env file\\nload_dotenv()\\n\\n# connect exchange with ccxt\\nexchange_id = \\\"ftx\\\"\\nexchange_class = getattr(ccxt, exchange_id)\\nexchange = exchange_class(\\n    {\\n        \\\"enableRateLimit\\\": True,\\n        \\\"apiKey\\\": os.environ.get(\\\"APIKey\\\"),\\n        \\\"secret\\\": os.environ.get(\\\"APISecret\\\"),\\n    }\\n)\";\n",
       "                var nbb_cells = Jupyter.notebook.get_cells();\n",
       "                for (var i = 0; i < nbb_cells.length; ++i) {\n",
       "                    if (nbb_cells[i].input_prompt_number == nbb_cell_id) {\n",
       "                        if (nbb_cells[i].get_text() == nbb_unformatted_code) {\n",
       "                             nbb_cells[i].set_text(nbb_formatted_code);\n",
       "                        }\n",
       "                        break;\n",
       "                    }\n",
       "                }\n",
       "            }, 500);\n",
       "            "
      ],
      "text/plain": [
       "<IPython.core.display.Javascript object>"
      ]
     },
     "metadata": {},
     "output_type": "display_data"
    }
   ],
   "source": [
    "# read .env file\n",
    "load_dotenv()\n",
    "\n",
    "# connect exchange with ccxt\n",
    "exchange_id = \"ftx\"\n",
    "exchange_class = getattr(ccxt, exchange_id)\n",
    "exchange = exchange_class(\n",
    "    {\n",
    "        \"enableRateLimit\": True,\n",
    "        \"apiKey\": os.environ.get(\"APIKey\"),\n",
    "        \"secret\": os.environ.get(\"APISecret\"),\n",
    "    }\n",
    ")"
   ]
  },
  {
   "cell_type": "markdown",
   "id": "23905d9e",
   "metadata": {},
   "source": [
    "Let's select only some coins/USD"
   ]
  },
  {
   "cell_type": "code",
   "execution_count": 5,
   "id": "93894756",
   "metadata": {},
   "outputs": [
    {
     "data": {
      "text/html": [
       "<div>\n",
       "<style scoped>\n",
       "    .dataframe tbody tr th:only-of-type {\n",
       "        vertical-align: middle;\n",
       "    }\n",
       "\n",
       "    .dataframe tbody tr th {\n",
       "        vertical-align: top;\n",
       "    }\n",
       "\n",
       "    .dataframe thead th {\n",
       "        text-align: right;\n",
       "    }\n",
       "</style>\n",
       "<table border=\"1\" class=\"dataframe\">\n",
       "  <thead>\n",
       "    <tr style=\"text-align: right;\">\n",
       "      <th></th>\n",
       "      <th>enabled</th>\n",
       "      <th>postOnly</th>\n",
       "      <th>priceIncrement</th>\n",
       "      <th>sizeIncrement</th>\n",
       "      <th>minProvideSize</th>\n",
       "      <th>last</th>\n",
       "      <th>bid</th>\n",
       "      <th>ask</th>\n",
       "      <th>price</th>\n",
       "      <th>type</th>\n",
       "      <th>futureType</th>\n",
       "      <th>baseCurrency</th>\n",
       "      <th>isEtfMarket</th>\n",
       "      <th>quoteCurrency</th>\n",
       "      <th>underlying</th>\n",
       "      <th>restricted</th>\n",
       "      <th>highLeverageFeeExempt</th>\n",
       "      <th>largeOrderThreshold</th>\n",
       "      <th>change1h</th>\n",
       "      <th>change24h</th>\n",
       "      <th>changeBod</th>\n",
       "      <th>quoteVolume24h</th>\n",
       "      <th>volumeUsd24h</th>\n",
       "      <th>priceHigh24h</th>\n",
       "      <th>priceLow24h</th>\n",
       "      <th>tokenizedEquity</th>\n",
       "    </tr>\n",
       "    <tr>\n",
       "      <th>name</th>\n",
       "      <th></th>\n",
       "      <th></th>\n",
       "      <th></th>\n",
       "      <th></th>\n",
       "      <th></th>\n",
       "      <th></th>\n",
       "      <th></th>\n",
       "      <th></th>\n",
       "      <th></th>\n",
       "      <th></th>\n",
       "      <th></th>\n",
       "      <th></th>\n",
       "      <th></th>\n",
       "      <th></th>\n",
       "      <th></th>\n",
       "      <th></th>\n",
       "      <th></th>\n",
       "      <th></th>\n",
       "      <th></th>\n",
       "      <th></th>\n",
       "      <th></th>\n",
       "      <th></th>\n",
       "      <th></th>\n",
       "      <th></th>\n",
       "      <th></th>\n",
       "      <th></th>\n",
       "    </tr>\n",
       "  </thead>\n",
       "  <tbody>\n",
       "    <tr>\n",
       "      <th>BTC/USD</th>\n",
       "      <td>True</td>\n",
       "      <td>False</td>\n",
       "      <td>1.000000</td>\n",
       "      <td>0.0001</td>\n",
       "      <td>0.0001</td>\n",
       "      <td>19398.00000</td>\n",
       "      <td>19397.0000</td>\n",
       "      <td>19398.00000</td>\n",
       "      <td>19398.0000</td>\n",
       "      <td>spot</td>\n",
       "      <td>None</td>\n",
       "      <td>BTC</td>\n",
       "      <td>False</td>\n",
       "      <td>USD</td>\n",
       "      <td>None</td>\n",
       "      <td>False</td>\n",
       "      <td>True</td>\n",
       "      <td>2400.0</td>\n",
       "      <td>0.001239</td>\n",
       "      <td>-0.010508</td>\n",
       "      <td>-0.002160</td>\n",
       "      <td>7.714859e+08</td>\n",
       "      <td>7.714859e+08</td>\n",
       "      <td>19767.000000</td>\n",
       "      <td>18847.000000</td>\n",
       "      <td>NaN</td>\n",
       "    </tr>\n",
       "    <tr>\n",
       "      <th>ETH/USD</th>\n",
       "      <td>True</td>\n",
       "      <td>False</td>\n",
       "      <td>0.100000</td>\n",
       "      <td>0.0010</td>\n",
       "      <td>0.0010</td>\n",
       "      <td>1334.30000</td>\n",
       "      <td>1334.4000</td>\n",
       "      <td>1334.50000</td>\n",
       "      <td>1334.4000</td>\n",
       "      <td>spot</td>\n",
       "      <td>None</td>\n",
       "      <td>ETH</td>\n",
       "      <td>False</td>\n",
       "      <td>USD</td>\n",
       "      <td>None</td>\n",
       "      <td>False</td>\n",
       "      <td>True</td>\n",
       "      <td>2400.0</td>\n",
       "      <td>-0.000300</td>\n",
       "      <td>-0.001795</td>\n",
       "      <td>-0.005070</td>\n",
       "      <td>5.623911e+08</td>\n",
       "      <td>5.623911e+08</td>\n",
       "      <td>1355.300000</td>\n",
       "      <td>1288.500000</td>\n",
       "      <td>NaN</td>\n",
       "    </tr>\n",
       "    <tr>\n",
       "      <th>XRP/USD</th>\n",
       "      <td>True</td>\n",
       "      <td>False</td>\n",
       "      <td>0.000025</td>\n",
       "      <td>1.0000</td>\n",
       "      <td>1.0000</td>\n",
       "      <td>0.43735</td>\n",
       "      <td>0.4374</td>\n",
       "      <td>0.43745</td>\n",
       "      <td>0.4374</td>\n",
       "      <td>spot</td>\n",
       "      <td>None</td>\n",
       "      <td>XRP</td>\n",
       "      <td>False</td>\n",
       "      <td>USD</td>\n",
       "      <td>None</td>\n",
       "      <td>False</td>\n",
       "      <td>True</td>\n",
       "      <td>2400.0</td>\n",
       "      <td>0.002694</td>\n",
       "      <td>-0.004382</td>\n",
       "      <td>-0.029833</td>\n",
       "      <td>7.387540e+07</td>\n",
       "      <td>7.387540e+07</td>\n",
       "      <td>0.455775</td>\n",
       "      <td>0.426275</td>\n",
       "      <td>NaN</td>\n",
       "    </tr>\n",
       "    <tr>\n",
       "      <th>SOL/USD</th>\n",
       "      <td>True</td>\n",
       "      <td>False</td>\n",
       "      <td>0.002500</td>\n",
       "      <td>0.0100</td>\n",
       "      <td>0.0100</td>\n",
       "      <td>33.83250</td>\n",
       "      <td>33.8275</td>\n",
       "      <td>33.83000</td>\n",
       "      <td>33.8300</td>\n",
       "      <td>spot</td>\n",
       "      <td>None</td>\n",
       "      <td>SOL</td>\n",
       "      <td>False</td>\n",
       "      <td>USD</td>\n",
       "      <td>None</td>\n",
       "      <td>False</td>\n",
       "      <td>True</td>\n",
       "      <td>2000.0</td>\n",
       "      <td>-0.000443</td>\n",
       "      <td>0.005051</td>\n",
       "      <td>0.015382</td>\n",
       "      <td>5.719500e+07</td>\n",
       "      <td>5.719500e+07</td>\n",
       "      <td>34.430000</td>\n",
       "      <td>32.622500</td>\n",
       "      <td>NaN</td>\n",
       "    </tr>\n",
       "    <tr>\n",
       "      <th>USDT/USD</th>\n",
       "      <td>True</td>\n",
       "      <td>False</td>\n",
       "      <td>0.000100</td>\n",
       "      <td>0.0100</td>\n",
       "      <td>0.0100</td>\n",
       "      <td>1.00010</td>\n",
       "      <td>1.0000</td>\n",
       "      <td>1.00010</td>\n",
       "      <td>1.0001</td>\n",
       "      <td>spot</td>\n",
       "      <td>None</td>\n",
       "      <td>USDT</td>\n",
       "      <td>False</td>\n",
       "      <td>USD</td>\n",
       "      <td>None</td>\n",
       "      <td>False</td>\n",
       "      <td>True</td>\n",
       "      <td>2400.0</td>\n",
       "      <td>0.000000</td>\n",
       "      <td>0.000200</td>\n",
       "      <td>0.000200</td>\n",
       "      <td>7.898468e+07</td>\n",
       "      <td>7.898468e+07</td>\n",
       "      <td>1.000100</td>\n",
       "      <td>0.999800</td>\n",
       "      <td>NaN</td>\n",
       "    </tr>\n",
       "    <tr>\n",
       "      <th>ETHW/USD</th>\n",
       "      <td>True</td>\n",
       "      <td>False</td>\n",
       "      <td>0.001000</td>\n",
       "      <td>0.0010</td>\n",
       "      <td>0.0010</td>\n",
       "      <td>12.20900</td>\n",
       "      <td>12.2070</td>\n",
       "      <td>12.21900</td>\n",
       "      <td>12.2090</td>\n",
       "      <td>spot</td>\n",
       "      <td>None</td>\n",
       "      <td>ETHW</td>\n",
       "      <td>False</td>\n",
       "      <td>USD</td>\n",
       "      <td>None</td>\n",
       "      <td>False</td>\n",
       "      <td>True</td>\n",
       "      <td>280.0</td>\n",
       "      <td>0.021503</td>\n",
       "      <td>0.118655</td>\n",
       "      <td>0.129104</td>\n",
       "      <td>2.812470e+07</td>\n",
       "      <td>2.812470e+07</td>\n",
       "      <td>12.950000</td>\n",
       "      <td>10.339000</td>\n",
       "      <td>NaN</td>\n",
       "    </tr>\n",
       "    <tr>\n",
       "      <th>BNB/USD</th>\n",
       "      <td>True</td>\n",
       "      <td>False</td>\n",
       "      <td>0.001000</td>\n",
       "      <td>0.0100</td>\n",
       "      <td>0.0100</td>\n",
       "      <td>282.84700</td>\n",
       "      <td>282.8210</td>\n",
       "      <td>282.85300</td>\n",
       "      <td>282.8470</td>\n",
       "      <td>spot</td>\n",
       "      <td>None</td>\n",
       "      <td>BNB</td>\n",
       "      <td>False</td>\n",
       "      <td>USD</td>\n",
       "      <td>None</td>\n",
       "      <td>False</td>\n",
       "      <td>True</td>\n",
       "      <td>2000.0</td>\n",
       "      <td>0.001395</td>\n",
       "      <td>0.009879</td>\n",
       "      <td>0.000917</td>\n",
       "      <td>1.851012e+07</td>\n",
       "      <td>1.851012e+07</td>\n",
       "      <td>285.541000</td>\n",
       "      <td>277.169000</td>\n",
       "      <td>NaN</td>\n",
       "    </tr>\n",
       "    <tr>\n",
       "      <th>LINK/USD</th>\n",
       "      <td>True</td>\n",
       "      <td>False</td>\n",
       "      <td>0.000500</td>\n",
       "      <td>0.1000</td>\n",
       "      <td>0.1000</td>\n",
       "      <td>7.83200</td>\n",
       "      <td>7.8295</td>\n",
       "      <td>7.83300</td>\n",
       "      <td>7.8320</td>\n",
       "      <td>spot</td>\n",
       "      <td>None</td>\n",
       "      <td>LINK</td>\n",
       "      <td>False</td>\n",
       "      <td>USD</td>\n",
       "      <td>None</td>\n",
       "      <td>False</td>\n",
       "      <td>True</td>\n",
       "      <td>2000.0</td>\n",
       "      <td>0.003138</td>\n",
       "      <td>-0.013167</td>\n",
       "      <td>0.008239</td>\n",
       "      <td>1.749140e+07</td>\n",
       "      <td>1.749140e+07</td>\n",
       "      <td>7.983000</td>\n",
       "      <td>7.574500</td>\n",
       "      <td>NaN</td>\n",
       "    </tr>\n",
       "    <tr>\n",
       "      <th>FTT/USD</th>\n",
       "      <td>True</td>\n",
       "      <td>False</td>\n",
       "      <td>0.001000</td>\n",
       "      <td>0.1000</td>\n",
       "      <td>0.1000</td>\n",
       "      <td>24.13300</td>\n",
       "      <td>24.1350</td>\n",
       "      <td>24.14100</td>\n",
       "      <td>24.1350</td>\n",
       "      <td>spot</td>\n",
       "      <td>None</td>\n",
       "      <td>FTT</td>\n",
       "      <td>False</td>\n",
       "      <td>USD</td>\n",
       "      <td>None</td>\n",
       "      <td>False</td>\n",
       "      <td>True</td>\n",
       "      <td>280.0</td>\n",
       "      <td>0.001535</td>\n",
       "      <td>0.001452</td>\n",
       "      <td>-0.000041</td>\n",
       "      <td>1.344939e+07</td>\n",
       "      <td>1.344939e+07</td>\n",
       "      <td>24.353000</td>\n",
       "      <td>23.510000</td>\n",
       "      <td>NaN</td>\n",
       "    </tr>\n",
       "    <tr>\n",
       "      <th>ATOM/USD</th>\n",
       "      <td>True</td>\n",
       "      <td>False</td>\n",
       "      <td>0.002500</td>\n",
       "      <td>0.1000</td>\n",
       "      <td>0.1000</td>\n",
       "      <td>12.59750</td>\n",
       "      <td>12.5875</td>\n",
       "      <td>12.59250</td>\n",
       "      <td>12.5925</td>\n",
       "      <td>spot</td>\n",
       "      <td>None</td>\n",
       "      <td>ATOM</td>\n",
       "      <td>False</td>\n",
       "      <td>USD</td>\n",
       "      <td>None</td>\n",
       "      <td>False</td>\n",
       "      <td>True</td>\n",
       "      <td>2000.0</td>\n",
       "      <td>-0.002377</td>\n",
       "      <td>-0.033391</td>\n",
       "      <td>-0.028918</td>\n",
       "      <td>7.947410e+06</td>\n",
       "      <td>7.947410e+06</td>\n",
       "      <td>13.950000</td>\n",
       "      <td>12.425000</td>\n",
       "      <td>NaN</td>\n",
       "    </tr>\n",
       "  </tbody>\n",
       "</table>\n",
       "</div>"
      ],
      "text/plain": [
       "          enabled  postOnly  priceIncrement  sizeIncrement  minProvideSize  \\\n",
       "name                                                                         \n",
       "BTC/USD      True     False        1.000000         0.0001          0.0001   \n",
       "ETH/USD      True     False        0.100000         0.0010          0.0010   \n",
       "XRP/USD      True     False        0.000025         1.0000          1.0000   \n",
       "SOL/USD      True     False        0.002500         0.0100          0.0100   \n",
       "USDT/USD     True     False        0.000100         0.0100          0.0100   \n",
       "ETHW/USD     True     False        0.001000         0.0010          0.0010   \n",
       "BNB/USD      True     False        0.001000         0.0100          0.0100   \n",
       "LINK/USD     True     False        0.000500         0.1000          0.1000   \n",
       "FTT/USD      True     False        0.001000         0.1000          0.1000   \n",
       "ATOM/USD     True     False        0.002500         0.1000          0.1000   \n",
       "\n",
       "                 last         bid          ask       price  type futureType  \\\n",
       "name                                                                          \n",
       "BTC/USD   19398.00000  19397.0000  19398.00000  19398.0000  spot       None   \n",
       "ETH/USD    1334.30000   1334.4000   1334.50000   1334.4000  spot       None   \n",
       "XRP/USD       0.43735      0.4374      0.43745      0.4374  spot       None   \n",
       "SOL/USD      33.83250     33.8275     33.83000     33.8300  spot       None   \n",
       "USDT/USD      1.00010      1.0000      1.00010      1.0001  spot       None   \n",
       "ETHW/USD     12.20900     12.2070     12.21900     12.2090  spot       None   \n",
       "BNB/USD     282.84700    282.8210    282.85300    282.8470  spot       None   \n",
       "LINK/USD      7.83200      7.8295      7.83300      7.8320  spot       None   \n",
       "FTT/USD      24.13300     24.1350     24.14100     24.1350  spot       None   \n",
       "ATOM/USD     12.59750     12.5875     12.59250     12.5925  spot       None   \n",
       "\n",
       "         baseCurrency  isEtfMarket quoteCurrency underlying  restricted  \\\n",
       "name                                                                      \n",
       "BTC/USD           BTC        False           USD       None       False   \n",
       "ETH/USD           ETH        False           USD       None       False   \n",
       "XRP/USD           XRP        False           USD       None       False   \n",
       "SOL/USD           SOL        False           USD       None       False   \n",
       "USDT/USD         USDT        False           USD       None       False   \n",
       "ETHW/USD         ETHW        False           USD       None       False   \n",
       "BNB/USD           BNB        False           USD       None       False   \n",
       "LINK/USD         LINK        False           USD       None       False   \n",
       "FTT/USD           FTT        False           USD       None       False   \n",
       "ATOM/USD         ATOM        False           USD       None       False   \n",
       "\n",
       "          highLeverageFeeExempt  largeOrderThreshold  change1h  change24h  \\\n",
       "name                                                                        \n",
       "BTC/USD                    True               2400.0  0.001239  -0.010508   \n",
       "ETH/USD                    True               2400.0 -0.000300  -0.001795   \n",
       "XRP/USD                    True               2400.0  0.002694  -0.004382   \n",
       "SOL/USD                    True               2000.0 -0.000443   0.005051   \n",
       "USDT/USD                   True               2400.0  0.000000   0.000200   \n",
       "ETHW/USD                   True                280.0  0.021503   0.118655   \n",
       "BNB/USD                    True               2000.0  0.001395   0.009879   \n",
       "LINK/USD                   True               2000.0  0.003138  -0.013167   \n",
       "FTT/USD                    True                280.0  0.001535   0.001452   \n",
       "ATOM/USD                   True               2000.0 -0.002377  -0.033391   \n",
       "\n",
       "          changeBod  quoteVolume24h  volumeUsd24h  priceHigh24h   priceLow24h  \\\n",
       "name                                                                            \n",
       "BTC/USD   -0.002160    7.714859e+08  7.714859e+08  19767.000000  18847.000000   \n",
       "ETH/USD   -0.005070    5.623911e+08  5.623911e+08   1355.300000   1288.500000   \n",
       "XRP/USD   -0.029833    7.387540e+07  7.387540e+07      0.455775      0.426275   \n",
       "SOL/USD    0.015382    5.719500e+07  5.719500e+07     34.430000     32.622500   \n",
       "USDT/USD   0.000200    7.898468e+07  7.898468e+07      1.000100      0.999800   \n",
       "ETHW/USD   0.129104    2.812470e+07  2.812470e+07     12.950000     10.339000   \n",
       "BNB/USD    0.000917    1.851012e+07  1.851012e+07    285.541000    277.169000   \n",
       "LINK/USD   0.008239    1.749140e+07  1.749140e+07      7.983000      7.574500   \n",
       "FTT/USD   -0.000041    1.344939e+07  1.344939e+07     24.353000     23.510000   \n",
       "ATOM/USD  -0.028918    7.947410e+06  7.947410e+06     13.950000     12.425000   \n",
       "\n",
       "         tokenizedEquity  \n",
       "name                      \n",
       "BTC/USD              NaN  \n",
       "ETH/USD              NaN  \n",
       "XRP/USD              NaN  \n",
       "SOL/USD              NaN  \n",
       "USDT/USD             NaN  \n",
       "ETHW/USD             NaN  \n",
       "BNB/USD              NaN  \n",
       "LINK/USD             NaN  \n",
       "FTT/USD              NaN  \n",
       "ATOM/USD             NaN  "
      ]
     },
     "execution_count": 5,
     "metadata": {},
     "output_type": "execute_result"
    },
    {
     "data": {
      "application/javascript": [
       "\n",
       "            setTimeout(function() {\n",
       "                var nbb_cell_id = 5;\n",
       "                var nbb_unformatted_code = \"markets = requests.get(\\\"https://ftx.com/api/markets\\\").json()\\nmarkets_df = pd.DataFrame(markets[\\\"result\\\"]).set_index(\\\"name\\\")\\nmarkets_df.loc[symbol_list]\";\n",
       "                var nbb_formatted_code = \"markets = requests.get(\\\"https://ftx.com/api/markets\\\").json()\\nmarkets_df = pd.DataFrame(markets[\\\"result\\\"]).set_index(\\\"name\\\")\\nmarkets_df.loc[symbol_list]\";\n",
       "                var nbb_cells = Jupyter.notebook.get_cells();\n",
       "                for (var i = 0; i < nbb_cells.length; ++i) {\n",
       "                    if (nbb_cells[i].input_prompt_number == nbb_cell_id) {\n",
       "                        if (nbb_cells[i].get_text() == nbb_unformatted_code) {\n",
       "                             nbb_cells[i].set_text(nbb_formatted_code);\n",
       "                        }\n",
       "                        break;\n",
       "                    }\n",
       "                }\n",
       "            }, 500);\n",
       "            "
      ],
      "text/plain": [
       "<IPython.core.display.Javascript object>"
      ]
     },
     "metadata": {},
     "output_type": "display_data"
    }
   ],
   "source": [
    "markets = requests.get(\"https://ftx.com/api/markets\").json()\n",
    "markets_df = pd.DataFrame(markets[\"result\"]).set_index(\"name\")\n",
    "markets_df.loc[symbol_list]"
   ]
  },
  {
   "cell_type": "code",
   "execution_count": 6,
   "id": "342fb0a7",
   "metadata": {},
   "outputs": [
    {
     "data": {
      "text/html": [
       "<div>\n",
       "<style scoped>\n",
       "    .dataframe tbody tr th:only-of-type {\n",
       "        vertical-align: middle;\n",
       "    }\n",
       "\n",
       "    .dataframe tbody tr th {\n",
       "        vertical-align: top;\n",
       "    }\n",
       "\n",
       "    .dataframe thead th {\n",
       "        text-align: right;\n",
       "    }\n",
       "</style>\n",
       "<table border=\"1\" class=\"dataframe\">\n",
       "  <thead>\n",
       "    <tr style=\"text-align: right;\">\n",
       "      <th></th>\n",
       "      <th>symbol</th>\n",
       "      <th>base</th>\n",
       "      <th>quote</th>\n",
       "      <th>baseId</th>\n",
       "      <th>quoteId</th>\n",
       "      <th>active</th>\n",
       "      <th>type</th>\n",
       "      <th>linear</th>\n",
       "      <th>inverse</th>\n",
       "      <th>spot</th>\n",
       "      <th>swap</th>\n",
       "      <th>future</th>\n",
       "      <th>option</th>\n",
       "      <th>margin</th>\n",
       "      <th>contract</th>\n",
       "      <th>contractSize</th>\n",
       "      <th>expiry</th>\n",
       "      <th>expiryDatetime</th>\n",
       "      <th>optionType</th>\n",
       "      <th>strike</th>\n",
       "      <th>settle</th>\n",
       "      <th>settleId</th>\n",
       "      <th>precision</th>\n",
       "      <th>limits</th>\n",
       "      <th>info</th>\n",
       "      <th>percentage</th>\n",
       "      <th>tierBased</th>\n",
       "      <th>maker</th>\n",
       "      <th>taker</th>\n",
       "      <th>tiers</th>\n",
       "    </tr>\n",
       "    <tr>\n",
       "      <th>id</th>\n",
       "      <th></th>\n",
       "      <th></th>\n",
       "      <th></th>\n",
       "      <th></th>\n",
       "      <th></th>\n",
       "      <th></th>\n",
       "      <th></th>\n",
       "      <th></th>\n",
       "      <th></th>\n",
       "      <th></th>\n",
       "      <th></th>\n",
       "      <th></th>\n",
       "      <th></th>\n",
       "      <th></th>\n",
       "      <th></th>\n",
       "      <th></th>\n",
       "      <th></th>\n",
       "      <th></th>\n",
       "      <th></th>\n",
       "      <th></th>\n",
       "      <th></th>\n",
       "      <th></th>\n",
       "      <th></th>\n",
       "      <th></th>\n",
       "      <th></th>\n",
       "      <th></th>\n",
       "      <th></th>\n",
       "      <th></th>\n",
       "      <th></th>\n",
       "      <th></th>\n",
       "    </tr>\n",
       "  </thead>\n",
       "  <tbody>\n",
       "    <tr>\n",
       "      <th>BTC/USD</th>\n",
       "      <td>BTC/USD</td>\n",
       "      <td>BTC</td>\n",
       "      <td>USD</td>\n",
       "      <td>BTC</td>\n",
       "      <td>USD</td>\n",
       "      <td>True</td>\n",
       "      <td>spot</td>\n",
       "      <td>None</td>\n",
       "      <td>None</td>\n",
       "      <td>True</td>\n",
       "      <td>False</td>\n",
       "      <td>False</td>\n",
       "      <td>False</td>\n",
       "      <td>True</td>\n",
       "      <td>False</td>\n",
       "      <td>1.0</td>\n",
       "      <td>None</td>\n",
       "      <td>None</td>\n",
       "      <td>None</td>\n",
       "      <td>None</td>\n",
       "      <td>None</td>\n",
       "      <td>None</td>\n",
       "      <td>{'amount': 0.0001, 'price': 1.0}</td>\n",
       "      <td>{'amount': {'min': 0.0001, 'max': None}, 'pric...</td>\n",
       "      <td>{'name': 'BTC/USD', 'enabled': True, 'postOnly...</td>\n",
       "      <td>True</td>\n",
       "      <td>True</td>\n",
       "      <td>0.0002</td>\n",
       "      <td>0.0007</td>\n",
       "      <td>{'taker': [[0.0, 0.0007], [2000000.0, 0.0006],...</td>\n",
       "    </tr>\n",
       "    <tr>\n",
       "      <th>ETH/USD</th>\n",
       "      <td>ETH/USD</td>\n",
       "      <td>ETH</td>\n",
       "      <td>USD</td>\n",
       "      <td>ETH</td>\n",
       "      <td>USD</td>\n",
       "      <td>True</td>\n",
       "      <td>spot</td>\n",
       "      <td>None</td>\n",
       "      <td>None</td>\n",
       "      <td>True</td>\n",
       "      <td>False</td>\n",
       "      <td>False</td>\n",
       "      <td>False</td>\n",
       "      <td>True</td>\n",
       "      <td>False</td>\n",
       "      <td>1.0</td>\n",
       "      <td>None</td>\n",
       "      <td>None</td>\n",
       "      <td>None</td>\n",
       "      <td>None</td>\n",
       "      <td>None</td>\n",
       "      <td>None</td>\n",
       "      <td>{'amount': 0.001, 'price': 0.1}</td>\n",
       "      <td>{'amount': {'min': 0.001, 'max': None}, 'price...</td>\n",
       "      <td>{'name': 'ETH/USD', 'enabled': True, 'postOnly...</td>\n",
       "      <td>True</td>\n",
       "      <td>True</td>\n",
       "      <td>0.0002</td>\n",
       "      <td>0.0007</td>\n",
       "      <td>{'taker': [[0.0, 0.0007], [2000000.0, 0.0006],...</td>\n",
       "    </tr>\n",
       "    <tr>\n",
       "      <th>XRP/USD</th>\n",
       "      <td>XRP/USD</td>\n",
       "      <td>XRP</td>\n",
       "      <td>USD</td>\n",
       "      <td>XRP</td>\n",
       "      <td>USD</td>\n",
       "      <td>True</td>\n",
       "      <td>spot</td>\n",
       "      <td>None</td>\n",
       "      <td>None</td>\n",
       "      <td>True</td>\n",
       "      <td>False</td>\n",
       "      <td>False</td>\n",
       "      <td>False</td>\n",
       "      <td>True</td>\n",
       "      <td>False</td>\n",
       "      <td>1.0</td>\n",
       "      <td>None</td>\n",
       "      <td>None</td>\n",
       "      <td>None</td>\n",
       "      <td>None</td>\n",
       "      <td>None</td>\n",
       "      <td>None</td>\n",
       "      <td>{'amount': 1.0, 'price': 2.5e-05}</td>\n",
       "      <td>{'amount': {'min': 1.0, 'max': None}, 'price':...</td>\n",
       "      <td>{'name': 'XRP/USD', 'enabled': True, 'postOnly...</td>\n",
       "      <td>True</td>\n",
       "      <td>True</td>\n",
       "      <td>0.0002</td>\n",
       "      <td>0.0007</td>\n",
       "      <td>{'taker': [[0.0, 0.0007], [2000000.0, 0.0006],...</td>\n",
       "    </tr>\n",
       "    <tr>\n",
       "      <th>SOL/USD</th>\n",
       "      <td>SOL/USD</td>\n",
       "      <td>SOL</td>\n",
       "      <td>USD</td>\n",
       "      <td>SOL</td>\n",
       "      <td>USD</td>\n",
       "      <td>True</td>\n",
       "      <td>spot</td>\n",
       "      <td>None</td>\n",
       "      <td>None</td>\n",
       "      <td>True</td>\n",
       "      <td>False</td>\n",
       "      <td>False</td>\n",
       "      <td>False</td>\n",
       "      <td>True</td>\n",
       "      <td>False</td>\n",
       "      <td>1.0</td>\n",
       "      <td>None</td>\n",
       "      <td>None</td>\n",
       "      <td>None</td>\n",
       "      <td>None</td>\n",
       "      <td>None</td>\n",
       "      <td>None</td>\n",
       "      <td>{'amount': 0.01, 'price': 0.0025}</td>\n",
       "      <td>{'amount': {'min': 0.01, 'max': None}, 'price'...</td>\n",
       "      <td>{'name': 'SOL/USD', 'enabled': True, 'postOnly...</td>\n",
       "      <td>True</td>\n",
       "      <td>True</td>\n",
       "      <td>0.0002</td>\n",
       "      <td>0.0007</td>\n",
       "      <td>{'taker': [[0.0, 0.0007], [2000000.0, 0.0006],...</td>\n",
       "    </tr>\n",
       "    <tr>\n",
       "      <th>USDT/USD</th>\n",
       "      <td>USDT/USD</td>\n",
       "      <td>USDT</td>\n",
       "      <td>USD</td>\n",
       "      <td>USDT</td>\n",
       "      <td>USD</td>\n",
       "      <td>True</td>\n",
       "      <td>spot</td>\n",
       "      <td>None</td>\n",
       "      <td>None</td>\n",
       "      <td>True</td>\n",
       "      <td>False</td>\n",
       "      <td>False</td>\n",
       "      <td>False</td>\n",
       "      <td>True</td>\n",
       "      <td>False</td>\n",
       "      <td>1.0</td>\n",
       "      <td>None</td>\n",
       "      <td>None</td>\n",
       "      <td>None</td>\n",
       "      <td>None</td>\n",
       "      <td>None</td>\n",
       "      <td>None</td>\n",
       "      <td>{'amount': 0.01, 'price': 0.0001}</td>\n",
       "      <td>{'amount': {'min': 0.01, 'max': None}, 'price'...</td>\n",
       "      <td>{'name': 'USDT/USD', 'enabled': True, 'postOnl...</td>\n",
       "      <td>True</td>\n",
       "      <td>True</td>\n",
       "      <td>0.0002</td>\n",
       "      <td>0.0007</td>\n",
       "      <td>{'taker': [[0.0, 0.0007], [2000000.0, 0.0006],...</td>\n",
       "    </tr>\n",
       "    <tr>\n",
       "      <th>ETHW/USD</th>\n",
       "      <td>ETHW/USD</td>\n",
       "      <td>ETHW</td>\n",
       "      <td>USD</td>\n",
       "      <td>ETHW</td>\n",
       "      <td>USD</td>\n",
       "      <td>True</td>\n",
       "      <td>spot</td>\n",
       "      <td>None</td>\n",
       "      <td>None</td>\n",
       "      <td>True</td>\n",
       "      <td>False</td>\n",
       "      <td>False</td>\n",
       "      <td>False</td>\n",
       "      <td>True</td>\n",
       "      <td>False</td>\n",
       "      <td>1.0</td>\n",
       "      <td>None</td>\n",
       "      <td>None</td>\n",
       "      <td>None</td>\n",
       "      <td>None</td>\n",
       "      <td>None</td>\n",
       "      <td>None</td>\n",
       "      <td>{'amount': 0.001, 'price': 0.001}</td>\n",
       "      <td>{'amount': {'min': 0.001, 'max': None}, 'price...</td>\n",
       "      <td>{'name': 'ETHW/USD', 'enabled': True, 'postOnl...</td>\n",
       "      <td>True</td>\n",
       "      <td>True</td>\n",
       "      <td>0.0002</td>\n",
       "      <td>0.0007</td>\n",
       "      <td>{'taker': [[0.0, 0.0007], [2000000.0, 0.0006],...</td>\n",
       "    </tr>\n",
       "    <tr>\n",
       "      <th>BNB/USD</th>\n",
       "      <td>BNB/USD</td>\n",
       "      <td>BNB</td>\n",
       "      <td>USD</td>\n",
       "      <td>BNB</td>\n",
       "      <td>USD</td>\n",
       "      <td>True</td>\n",
       "      <td>spot</td>\n",
       "      <td>None</td>\n",
       "      <td>None</td>\n",
       "      <td>True</td>\n",
       "      <td>False</td>\n",
       "      <td>False</td>\n",
       "      <td>False</td>\n",
       "      <td>True</td>\n",
       "      <td>False</td>\n",
       "      <td>1.0</td>\n",
       "      <td>None</td>\n",
       "      <td>None</td>\n",
       "      <td>None</td>\n",
       "      <td>None</td>\n",
       "      <td>None</td>\n",
       "      <td>None</td>\n",
       "      <td>{'amount': 0.01, 'price': 0.001}</td>\n",
       "      <td>{'amount': {'min': 0.01, 'max': None}, 'price'...</td>\n",
       "      <td>{'name': 'BNB/USD', 'enabled': True, 'postOnly...</td>\n",
       "      <td>True</td>\n",
       "      <td>True</td>\n",
       "      <td>0.0002</td>\n",
       "      <td>0.0007</td>\n",
       "      <td>{'taker': [[0.0, 0.0007], [2000000.0, 0.0006],...</td>\n",
       "    </tr>\n",
       "    <tr>\n",
       "      <th>LINK/USD</th>\n",
       "      <td>LINK/USD</td>\n",
       "      <td>LINK</td>\n",
       "      <td>USD</td>\n",
       "      <td>LINK</td>\n",
       "      <td>USD</td>\n",
       "      <td>True</td>\n",
       "      <td>spot</td>\n",
       "      <td>None</td>\n",
       "      <td>None</td>\n",
       "      <td>True</td>\n",
       "      <td>False</td>\n",
       "      <td>False</td>\n",
       "      <td>False</td>\n",
       "      <td>True</td>\n",
       "      <td>False</td>\n",
       "      <td>1.0</td>\n",
       "      <td>None</td>\n",
       "      <td>None</td>\n",
       "      <td>None</td>\n",
       "      <td>None</td>\n",
       "      <td>None</td>\n",
       "      <td>None</td>\n",
       "      <td>{'amount': 0.1, 'price': 0.0005}</td>\n",
       "      <td>{'amount': {'min': 0.1, 'max': None}, 'price':...</td>\n",
       "      <td>{'name': 'LINK/USD', 'enabled': True, 'postOnl...</td>\n",
       "      <td>True</td>\n",
       "      <td>True</td>\n",
       "      <td>0.0002</td>\n",
       "      <td>0.0007</td>\n",
       "      <td>{'taker': [[0.0, 0.0007], [2000000.0, 0.0006],...</td>\n",
       "    </tr>\n",
       "    <tr>\n",
       "      <th>FTT/USD</th>\n",
       "      <td>FTT/USD</td>\n",
       "      <td>FTT</td>\n",
       "      <td>USD</td>\n",
       "      <td>FTT</td>\n",
       "      <td>USD</td>\n",
       "      <td>True</td>\n",
       "      <td>spot</td>\n",
       "      <td>None</td>\n",
       "      <td>None</td>\n",
       "      <td>True</td>\n",
       "      <td>False</td>\n",
       "      <td>False</td>\n",
       "      <td>False</td>\n",
       "      <td>True</td>\n",
       "      <td>False</td>\n",
       "      <td>1.0</td>\n",
       "      <td>None</td>\n",
       "      <td>None</td>\n",
       "      <td>None</td>\n",
       "      <td>None</td>\n",
       "      <td>None</td>\n",
       "      <td>None</td>\n",
       "      <td>{'amount': 0.1, 'price': 0.001}</td>\n",
       "      <td>{'amount': {'min': 0.1, 'max': None}, 'price':...</td>\n",
       "      <td>{'name': 'FTT/USD', 'enabled': True, 'postOnly...</td>\n",
       "      <td>True</td>\n",
       "      <td>True</td>\n",
       "      <td>0.0002</td>\n",
       "      <td>0.0007</td>\n",
       "      <td>{'taker': [[0.0, 0.0007], [2000000.0, 0.0006],...</td>\n",
       "    </tr>\n",
       "    <tr>\n",
       "      <th>ATOM/USD</th>\n",
       "      <td>ATOM/USD</td>\n",
       "      <td>ATOM</td>\n",
       "      <td>USD</td>\n",
       "      <td>ATOM</td>\n",
       "      <td>USD</td>\n",
       "      <td>True</td>\n",
       "      <td>spot</td>\n",
       "      <td>None</td>\n",
       "      <td>None</td>\n",
       "      <td>True</td>\n",
       "      <td>False</td>\n",
       "      <td>False</td>\n",
       "      <td>False</td>\n",
       "      <td>True</td>\n",
       "      <td>False</td>\n",
       "      <td>1.0</td>\n",
       "      <td>None</td>\n",
       "      <td>None</td>\n",
       "      <td>None</td>\n",
       "      <td>None</td>\n",
       "      <td>None</td>\n",
       "      <td>None</td>\n",
       "      <td>{'amount': 0.1, 'price': 0.0025}</td>\n",
       "      <td>{'amount': {'min': 0.1, 'max': None}, 'price':...</td>\n",
       "      <td>{'name': 'ATOM/USD', 'enabled': True, 'postOnl...</td>\n",
       "      <td>True</td>\n",
       "      <td>True</td>\n",
       "      <td>0.0002</td>\n",
       "      <td>0.0007</td>\n",
       "      <td>{'taker': [[0.0, 0.0007], [2000000.0, 0.0006],...</td>\n",
       "    </tr>\n",
       "  </tbody>\n",
       "</table>\n",
       "</div>"
      ],
      "text/plain": [
       "            symbol  base quote baseId quoteId active  type linear inverse  \\\n",
       "id                                                                          \n",
       "BTC/USD    BTC/USD   BTC   USD    BTC     USD   True  spot   None    None   \n",
       "ETH/USD    ETH/USD   ETH   USD    ETH     USD   True  spot   None    None   \n",
       "XRP/USD    XRP/USD   XRP   USD    XRP     USD   True  spot   None    None   \n",
       "SOL/USD    SOL/USD   SOL   USD    SOL     USD   True  spot   None    None   \n",
       "USDT/USD  USDT/USD  USDT   USD   USDT     USD   True  spot   None    None   \n",
       "ETHW/USD  ETHW/USD  ETHW   USD   ETHW     USD   True  spot   None    None   \n",
       "BNB/USD    BNB/USD   BNB   USD    BNB     USD   True  spot   None    None   \n",
       "LINK/USD  LINK/USD  LINK   USD   LINK     USD   True  spot   None    None   \n",
       "FTT/USD    FTT/USD   FTT   USD    FTT     USD   True  spot   None    None   \n",
       "ATOM/USD  ATOM/USD  ATOM   USD   ATOM     USD   True  spot   None    None   \n",
       "\n",
       "          spot   swap future option margin contract contractSize expiry  \\\n",
       "id                                                                        \n",
       "BTC/USD   True  False  False  False   True    False          1.0   None   \n",
       "ETH/USD   True  False  False  False   True    False          1.0   None   \n",
       "XRP/USD   True  False  False  False   True    False          1.0   None   \n",
       "SOL/USD   True  False  False  False   True    False          1.0   None   \n",
       "USDT/USD  True  False  False  False   True    False          1.0   None   \n",
       "ETHW/USD  True  False  False  False   True    False          1.0   None   \n",
       "BNB/USD   True  False  False  False   True    False          1.0   None   \n",
       "LINK/USD  True  False  False  False   True    False          1.0   None   \n",
       "FTT/USD   True  False  False  False   True    False          1.0   None   \n",
       "ATOM/USD  True  False  False  False   True    False          1.0   None   \n",
       "\n",
       "         expiryDatetime optionType strike settle settleId  \\\n",
       "id                                                          \n",
       "BTC/USD            None       None   None   None     None   \n",
       "ETH/USD            None       None   None   None     None   \n",
       "XRP/USD            None       None   None   None     None   \n",
       "SOL/USD            None       None   None   None     None   \n",
       "USDT/USD           None       None   None   None     None   \n",
       "ETHW/USD           None       None   None   None     None   \n",
       "BNB/USD            None       None   None   None     None   \n",
       "LINK/USD           None       None   None   None     None   \n",
       "FTT/USD            None       None   None   None     None   \n",
       "ATOM/USD           None       None   None   None     None   \n",
       "\n",
       "                                  precision  \\\n",
       "id                                            \n",
       "BTC/USD    {'amount': 0.0001, 'price': 1.0}   \n",
       "ETH/USD     {'amount': 0.001, 'price': 0.1}   \n",
       "XRP/USD   {'amount': 1.0, 'price': 2.5e-05}   \n",
       "SOL/USD   {'amount': 0.01, 'price': 0.0025}   \n",
       "USDT/USD  {'amount': 0.01, 'price': 0.0001}   \n",
       "ETHW/USD  {'amount': 0.001, 'price': 0.001}   \n",
       "BNB/USD    {'amount': 0.01, 'price': 0.001}   \n",
       "LINK/USD   {'amount': 0.1, 'price': 0.0005}   \n",
       "FTT/USD     {'amount': 0.1, 'price': 0.001}   \n",
       "ATOM/USD   {'amount': 0.1, 'price': 0.0025}   \n",
       "\n",
       "                                                     limits  \\\n",
       "id                                                            \n",
       "BTC/USD   {'amount': {'min': 0.0001, 'max': None}, 'pric...   \n",
       "ETH/USD   {'amount': {'min': 0.001, 'max': None}, 'price...   \n",
       "XRP/USD   {'amount': {'min': 1.0, 'max': None}, 'price':...   \n",
       "SOL/USD   {'amount': {'min': 0.01, 'max': None}, 'price'...   \n",
       "USDT/USD  {'amount': {'min': 0.01, 'max': None}, 'price'...   \n",
       "ETHW/USD  {'amount': {'min': 0.001, 'max': None}, 'price...   \n",
       "BNB/USD   {'amount': {'min': 0.01, 'max': None}, 'price'...   \n",
       "LINK/USD  {'amount': {'min': 0.1, 'max': None}, 'price':...   \n",
       "FTT/USD   {'amount': {'min': 0.1, 'max': None}, 'price':...   \n",
       "ATOM/USD  {'amount': {'min': 0.1, 'max': None}, 'price':...   \n",
       "\n",
       "                                                       info percentage  \\\n",
       "id                                                                       \n",
       "BTC/USD   {'name': 'BTC/USD', 'enabled': True, 'postOnly...       True   \n",
       "ETH/USD   {'name': 'ETH/USD', 'enabled': True, 'postOnly...       True   \n",
       "XRP/USD   {'name': 'XRP/USD', 'enabled': True, 'postOnly...       True   \n",
       "SOL/USD   {'name': 'SOL/USD', 'enabled': True, 'postOnly...       True   \n",
       "USDT/USD  {'name': 'USDT/USD', 'enabled': True, 'postOnl...       True   \n",
       "ETHW/USD  {'name': 'ETHW/USD', 'enabled': True, 'postOnl...       True   \n",
       "BNB/USD   {'name': 'BNB/USD', 'enabled': True, 'postOnly...       True   \n",
       "LINK/USD  {'name': 'LINK/USD', 'enabled': True, 'postOnl...       True   \n",
       "FTT/USD   {'name': 'FTT/USD', 'enabled': True, 'postOnly...       True   \n",
       "ATOM/USD  {'name': 'ATOM/USD', 'enabled': True, 'postOnl...       True   \n",
       "\n",
       "         tierBased   maker   taker  \\\n",
       "id                                   \n",
       "BTC/USD       True  0.0002  0.0007   \n",
       "ETH/USD       True  0.0002  0.0007   \n",
       "XRP/USD       True  0.0002  0.0007   \n",
       "SOL/USD       True  0.0002  0.0007   \n",
       "USDT/USD      True  0.0002  0.0007   \n",
       "ETHW/USD      True  0.0002  0.0007   \n",
       "BNB/USD       True  0.0002  0.0007   \n",
       "LINK/USD      True  0.0002  0.0007   \n",
       "FTT/USD       True  0.0002  0.0007   \n",
       "ATOM/USD      True  0.0002  0.0007   \n",
       "\n",
       "                                                      tiers  \n",
       "id                                                           \n",
       "BTC/USD   {'taker': [[0.0, 0.0007], [2000000.0, 0.0006],...  \n",
       "ETH/USD   {'taker': [[0.0, 0.0007], [2000000.0, 0.0006],...  \n",
       "XRP/USD   {'taker': [[0.0, 0.0007], [2000000.0, 0.0006],...  \n",
       "SOL/USD   {'taker': [[0.0, 0.0007], [2000000.0, 0.0006],...  \n",
       "USDT/USD  {'taker': [[0.0, 0.0007], [2000000.0, 0.0006],...  \n",
       "ETHW/USD  {'taker': [[0.0, 0.0007], [2000000.0, 0.0006],...  \n",
       "BNB/USD   {'taker': [[0.0, 0.0007], [2000000.0, 0.0006],...  \n",
       "LINK/USD  {'taker': [[0.0, 0.0007], [2000000.0, 0.0006],...  \n",
       "FTT/USD   {'taker': [[0.0, 0.0007], [2000000.0, 0.0006],...  \n",
       "ATOM/USD  {'taker': [[0.0, 0.0007], [2000000.0, 0.0006],...  "
      ]
     },
     "execution_count": 6,
     "metadata": {},
     "output_type": "execute_result"
    },
    {
     "data": {
      "application/javascript": [
       "\n",
       "            setTimeout(function() {\n",
       "                var nbb_cell_id = 6;\n",
       "                var nbb_unformatted_code = \"markets = exchange.load_markets()\\nmarkets_df = pd.DataFrame(markets).T.set_index(\\\"id\\\")\\nmarkets_df.loc[symbol_list]\";\n",
       "                var nbb_formatted_code = \"markets = exchange.load_markets()\\nmarkets_df = pd.DataFrame(markets).T.set_index(\\\"id\\\")\\nmarkets_df.loc[symbol_list]\";\n",
       "                var nbb_cells = Jupyter.notebook.get_cells();\n",
       "                for (var i = 0; i < nbb_cells.length; ++i) {\n",
       "                    if (nbb_cells[i].input_prompt_number == nbb_cell_id) {\n",
       "                        if (nbb_cells[i].get_text() == nbb_unformatted_code) {\n",
       "                             nbb_cells[i].set_text(nbb_formatted_code);\n",
       "                        }\n",
       "                        break;\n",
       "                    }\n",
       "                }\n",
       "            }, 500);\n",
       "            "
      ],
      "text/plain": [
       "<IPython.core.display.Javascript object>"
      ]
     },
     "metadata": {},
     "output_type": "display_data"
    }
   ],
   "source": [
    "markets = exchange.load_markets()\n",
    "markets_df = pd.DataFrame(markets).T.set_index(\"id\")\n",
    "markets_df.loc[symbol_list]"
   ]
  },
  {
   "cell_type": "markdown",
   "id": "2f6ba185",
   "metadata": {},
   "source": [
    "OHLCV get historical price, volume and trading data for a given base asset, quote asset, exchange, instrument type and resolution interval for this time period"
   ]
  },
  {
   "cell_type": "code",
   "execution_count": 7,
   "id": "04c04af2",
   "metadata": {},
   "outputs": [
    {
     "data": {
      "application/javascript": [
       "\n",
       "            setTimeout(function() {\n",
       "                var nbb_cell_id = 7;\n",
       "                var nbb_unformatted_code = \"ohlcv_s = {}\\nif exchange.has[\\\"fetchOHLCV\\\"]:\\n    for symbol in exchange.markets:\\n        if symbol in symbol_list:\\n            ohlcv_s[symbol] = pd.DataFrame(\\n                exchange.fetch_ohlcv(symbol, \\\"1d\\\", limit=100000),\\n                columns=[\\\"date\\\", \\\"open\\\", \\\"high\\\", \\\"low\\\", \\\"close\\\", \\\"volume\\\"],\\n            )\";\n",
       "                var nbb_formatted_code = \"ohlcv_s = {}\\nif exchange.has[\\\"fetchOHLCV\\\"]:\\n    for symbol in exchange.markets:\\n        if symbol in symbol_list:\\n            ohlcv_s[symbol] = pd.DataFrame(\\n                exchange.fetch_ohlcv(symbol, \\\"1d\\\", limit=100000),\\n                columns=[\\\"date\\\", \\\"open\\\", \\\"high\\\", \\\"low\\\", \\\"close\\\", \\\"volume\\\"],\\n            )\";\n",
       "                var nbb_cells = Jupyter.notebook.get_cells();\n",
       "                for (var i = 0; i < nbb_cells.length; ++i) {\n",
       "                    if (nbb_cells[i].input_prompt_number == nbb_cell_id) {\n",
       "                        if (nbb_cells[i].get_text() == nbb_unformatted_code) {\n",
       "                             nbb_cells[i].set_text(nbb_formatted_code);\n",
       "                        }\n",
       "                        break;\n",
       "                    }\n",
       "                }\n",
       "            }, 500);\n",
       "            "
      ],
      "text/plain": [
       "<IPython.core.display.Javascript object>"
      ]
     },
     "metadata": {},
     "output_type": "display_data"
    }
   ],
   "source": [
    "ohlcv_s = {}\n",
    "if exchange.has[\"fetchOHLCV\"]:\n",
    "    for symbol in exchange.markets:\n",
    "        if symbol in symbol_list:\n",
    "            ohlcv_s[symbol] = pd.DataFrame(\n",
    "                exchange.fetch_ohlcv(symbol, \"1d\", limit=100000),\n",
    "                columns=[\"date\", \"open\", \"high\", \"low\", \"close\", \"volume\"],\n",
    "            )"
   ]
  },
  {
   "cell_type": "code",
   "execution_count": 8,
   "id": "2fbd470d",
   "metadata": {},
   "outputs": [
    {
     "name": "stdout",
     "output_type": "stream",
     "text": [
      "ATOM/USD\n",
      "          date     open     high     low    close        volume\n",
      "208 2022-09-25  13.6350  14.8425  13.590  13.9800  7.278558e+06\n",
      "209 2022-09-26  13.9800  14.8925  13.755  13.9100  1.382479e+07\n",
      "210 2022-09-27  13.9100  14.7400  13.135  13.4825  1.308799e+07\n",
      "211 2022-09-28  13.4825  13.5800  12.620  12.9925  1.579316e+07\n",
      "212 2022-09-29  12.9925  13.9500  12.425  12.6025  6.965600e+06\n",
      "             open        high         low       close        volume\n",
      "count  213.000000  213.000000  213.000000  213.000000  2.130000e+02\n",
      "mean    15.658398   16.343885   14.946162   15.565657  8.047890e+06\n",
      "std      7.866382    8.047056    7.628608    7.784610  5.908707e+06\n",
      "min      6.067500    6.505000    5.550000    6.067500  6.170731e+05\n",
      "25%      9.627500   10.330000    9.142500    9.627500  3.575193e+06\n",
      "50%     11.910000   12.560000   11.435000   11.910000  6.503322e+06\n",
      "75%     23.212500   23.492500   22.450000   23.085000  1.098228e+07\n",
      "max     34.080000   35.275000   31.150000   34.080000  2.862224e+07\n",
      "-----------\n",
      "BNB/USD\n",
      "           date     open     high      low    close        volume\n",
      "1032 2022-09-25  274.519  279.807  271.140  274.244  1.732574e+07\n",
      "1033 2022-09-26  274.244  276.852  270.852  276.181  2.270435e+07\n",
      "1034 2022-09-27  276.181  286.645  269.306  272.216  2.517660e+07\n",
      "1035 2022-09-28  272.216  283.715  266.370  281.610  2.599393e+07\n",
      "1036 2022-09-29  281.610  285.541  277.168  282.983  1.547783e+07\n",
      "              open         high          low        close        volume\n",
      "count  1037.000000  1037.000000  1037.000000  1037.000000  1.037000e+03\n",
      "mean    229.883024   238.168961   220.518317   230.139712  2.717638e+07\n",
      "std     198.573021   205.296366   190.601335   198.466325  3.621232e+07\n",
      "min       9.335000    10.357000     6.501000     9.372000  0.000000e+00\n",
      "25%      22.822000    23.318000    21.814000    22.906000  7.027829e+05\n",
      "50%     263.001000   274.521000   250.454000   263.151000  1.977758e+07\n",
      "75%     391.459000   406.400000   376.491000   391.459000  4.177739e+07\n",
      "max     676.530000   693.567000   635.199000   676.530000  3.645719e+08\n",
      "-----------\n",
      "BTC/USD\n",
      "           date     open     high      low    close        volume\n",
      "1162 2022-09-25  18922.0  19188.0  18632.0  18809.0  2.248359e+08\n",
      "1163 2022-09-26  18809.0  19318.0  18687.0  19228.0  7.497010e+08\n",
      "1164 2022-09-27  19228.0  20387.0  18820.0  19077.0  1.102962e+09\n",
      "1165 2022-09-28  19078.0  19769.0  18464.0  19414.0  9.184522e+08\n",
      "1166 2022-09-29  19415.0  19655.0  18846.0  19413.0  6.907261e+08\n",
      "               open          high           low         close        volume\n",
      "count   1167.000000   1167.000000   1167.000000   1167.000000  1.167000e+03\n",
      "mean   26941.572836  27693.071979  26078.188089  26949.103256  2.891685e+08\n",
      "std    17834.391878  18336.899163  17231.922465  17829.184754  3.392641e+08\n",
      "min     4857.000000   5352.000000   3900.000000   4863.000000  3.869300e+00\n",
      "25%     9742.250000   9942.750000   9516.250000   9742.250000  7.776910e+06\n",
      "50%    21521.000000  21902.000000  20901.000000  21521.000000  1.903285e+08\n",
      "75%    42223.000000  43044.500000  40929.000000  42223.500000  4.780784e+08\n",
      "max    67583.000000  69081.000000  66211.000000  67583.000000  3.178308e+09\n",
      "-----------\n",
      "ETH/USD\n",
      "           date    open    high     low   close        volume\n",
      "1107 2022-09-25  1317.0  1336.9  1269.4  1294.4  3.798832e+08\n",
      "1108 2022-09-26  1294.4  1340.5  1278.2  1336.6  7.221542e+08\n",
      "1109 2022-09-27  1336.6  1400.4  1303.8  1328.2  5.980146e+08\n",
      "1110 2022-09-28  1328.2  1355.4  1254.0  1337.3  7.899083e+08\n",
      "1111 2022-09-29  1337.3  1352.1  1288.3  1335.5  4.870935e+08\n",
      "              open         high          low        close        volume\n",
      "count  1112.000000  1112.000000  1112.000000  1112.000000  1.112000e+03\n",
      "mean   1571.906560  1627.463210  1507.385036  1572.951601  2.391493e+08\n",
      "std    1340.865564  1383.221176  1289.509928  1340.237471  2.942082e+08\n",
      "min     108.950000   118.990000    87.690000   108.950000  0.000000e+00\n",
      "25%     239.377500   245.270000   234.485000   239.777500  4.107205e+06\n",
      "50%    1429.850000  1477.000000  1345.600000  1429.750000  1.010457e+08\n",
      "75%    2682.975000  2773.425000  2559.525000  2682.975000  4.083525e+08\n",
      "max    4810.800000  4869.700000  4713.800000  4810.800000  1.954092e+09\n",
      "-----------\n",
      "ETHW/USD\n",
      "         date    open    high     low   close        volume\n",
      "10 2022-09-25  11.248  13.780  10.644  11.358  5.325036e+07\n",
      "11 2022-09-26  11.367  11.834   8.470  10.972  4.763140e+07\n",
      "12 2022-09-27  10.972  11.988   9.921  11.210  3.425984e+07\n",
      "13 2022-09-28  11.210  11.296   9.931  10.734  2.077546e+07\n",
      "14 2022-09-29  10.734  12.950  10.339  12.240  2.599354e+07\n",
      "            open       high        low      close        volume\n",
      "count  15.000000  15.000000  15.000000  15.000000  1.500000e+01\n",
      "mean    9.200600  11.726667   7.411067   8.644600  2.916919e+07\n",
      "std     3.959845   5.956948   2.331944   2.602213  1.438867e+07\n",
      "min     4.330000   6.200000   3.820000   4.330000  7.021643e+06\n",
      "25%     6.042500   7.808000   5.479000   6.042500  1.951119e+07\n",
      "50%     9.103000  11.296000   8.016000   9.103000  2.506136e+07\n",
      "75%    11.091000  13.365000   9.486000  11.091000  3.777997e+07\n",
      "max    20.571000  30.677000  10.644000  12.240000  5.402741e+07\n",
      "-----------\n",
      "FTT/USD\n",
      "           date    open    high     low   close        volume\n",
      "1154 2022-09-25  23.690  23.957  23.291  23.510  4.908497e+06\n",
      "1155 2022-09-26  23.510  24.251  23.231  24.214  1.816370e+07\n",
      "1156 2022-09-27  24.214  25.126  23.358  23.633  2.527552e+07\n",
      "1157 2022-09-28  23.636  24.353  22.850  24.091  1.310914e+07\n",
      "1158 2022-09-29  24.091  24.343  23.510  24.153  1.114687e+07\n",
      "              open         high          low        close        volume\n",
      "count  1159.000000  1159.000000  1159.000000  1159.000000  1.159000e+03\n",
      "mean     22.135836    22.993053    21.219973    22.155742  2.637106e+07\n",
      "std      20.342788    21.192636    19.453530    20.333274  5.230588e+07\n",
      "min       1.010000     1.170000     1.010000     1.150000  1.981334e+04\n",
      "25%       2.868000     2.919000     2.813500     2.873500  5.678361e+05\n",
      "50%      23.636000    24.353000    22.628000    23.690000  8.784784e+06\n",
      "75%      39.987000    41.431000    38.530500    39.987000  3.177967e+07\n",
      "max      79.641000    84.746000    73.133000    79.641000  7.479935e+08\n",
      "-----------\n",
      "LINK/USD\n",
      "          date    open    high     low   close        volume\n",
      "887 2022-09-25  7.6300  8.0755  7.5675  7.8660  9.693681e+06\n",
      "888 2022-09-26  7.8660  7.9565  7.4665  7.9435  1.289588e+07\n",
      "889 2022-09-27  7.9435  8.3990  7.6490  8.0590  1.553643e+07\n",
      "890 2022-09-28  8.0590  8.5375  7.7330  7.7985  2.844111e+07\n",
      "891 2022-09-29  7.7985  7.8865  7.5745  7.8360  1.516090e+07\n",
      "             open        high         low       close        volume\n",
      "count  892.000000  892.000000  892.000000  892.000000  8.920000e+02\n",
      "mean    17.077075   17.927951   16.104766   17.081874  9.717839e+06\n",
      "std      9.899047   10.447253    9.217260    9.893275  1.135072e+07\n",
      "min      3.434250    3.570000    3.310500    3.462500  3.105324e+02\n",
      "25%      8.035500    8.405375    7.648000    8.035500  2.530005e+06\n",
      "50%     15.153750   15.728500   14.246000   15.148250  5.950999e+06\n",
      "75%     25.088375   26.381375   23.603625   25.088375  1.268148e+07\n",
      "max     52.307000   53.019500   46.597500   52.307000  8.149236e+07\n",
      "-----------\n",
      "SOL/USD\n",
      "          date     open    high      low    close        volume\n",
      "790 2022-09-25  33.3800  34.040  31.8750  32.3250  3.333202e+07\n",
      "791 2022-09-26  32.3250  33.945  31.8750  33.8775  4.783978e+07\n",
      "792 2022-09-27  33.8775  35.430  32.0625  32.6775  7.757827e+07\n",
      "793 2022-09-28  32.6800  33.800  31.6400  33.2275  7.016756e+07\n",
      "794 2022-09-29  33.2275  34.430  32.6225  33.8625  4.783960e+07\n",
      "             open        high         low       close        volume\n",
      "count  795.000000  795.000000  795.000000  795.000000  7.950000e+02\n",
      "mean    61.352664   64.493796   58.103954   61.392887  8.877572e+07\n",
      "std     63.979146   66.775771   60.819057   63.950432  1.046829e+08\n",
      "min      1.227500    1.385000    1.075000    1.227500  6.622395e+03\n",
      "25%      8.067500    8.752500    7.588750    8.278750  3.140280e+06\n",
      "50%     36.760000   39.080000   34.312500   36.760000  6.346836e+07\n",
      "75%     96.353750  101.656250   92.610000   96.332500  1.322577e+08\n",
      "max    258.592500  259.995000  245.942500  258.592500  7.449618e+08\n",
      "-----------\n",
      "USDT/USD\n",
      "           date    open    high     low   close        volume\n",
      "1105 2022-09-25  1.0000  1.0000  0.9999  1.0000  1.297428e+07\n",
      "1106 2022-09-26  1.0000  1.0000  0.9996  1.0000  9.018006e+07\n",
      "1107 2022-09-27  1.0000  1.0000  0.9998  0.9999  6.897584e+07\n",
      "1108 2022-09-28  0.9999  0.9999  0.9998  0.9999  7.070678e+07\n",
      "1109 2022-09-29  0.9999  1.0001  0.9998  1.0001  6.862752e+07\n",
      "              open         high          low        close        volume\n",
      "count  1110.000000  1110.000000  1110.000000  1110.000000  1.110000e+03\n",
      "mean      1.000182     1.000801     0.999441     1.000182  5.105451e+07\n",
      "std       0.000921     0.002580     0.002375     0.000921  1.005229e+08\n",
      "min       0.995400     0.997400     0.945000     0.995400  1.257148e+03\n",
      "25%       0.999900     1.000100     0.999100     0.999900  1.904366e+06\n",
      "50%       1.000200     1.000500     0.999900     1.000200  2.706193e+07\n",
      "75%       1.000600     1.001100     1.000200     1.000600  6.878257e+07\n",
      "max       1.008400     1.051800     1.002400     1.008400  2.234176e+09\n",
      "-----------\n"
     ]
    },
    {
     "name": "stdout",
     "output_type": "stream",
     "text": [
      "XRP/USD\n",
      "          date      open      high       low     close        volume\n",
      "798 2022-09-25  0.487900  0.520925  0.475725  0.491600  9.570244e+07\n",
      "799 2022-09-26  0.491575  0.501875  0.457625  0.468200  9.158187e+07\n",
      "800 2022-09-27  0.468200  0.487775  0.434875  0.445875  9.873863e+07\n",
      "801 2022-09-28  0.445875  0.455775  0.416650  0.449025  8.335614e+07\n",
      "802 2022-09-29  0.449025  0.451750  0.426050  0.437475  6.273917e+07\n",
      "             open        high         low       close        volume\n",
      "count  803.000000  803.000000  803.000000  803.000000  8.030000e+02\n",
      "mean     0.644267    0.674963    0.610225    0.644566  2.604983e+07\n",
      "std      0.346529    0.367313    0.322908    0.346242  2.656061e+07\n",
      "min      0.194575    0.200050    0.173100    0.194500  8.106712e+03\n",
      "25%      0.335812    0.348275    0.326313    0.336487  2.388543e+06\n",
      "50%      0.597475    0.623750    0.561200    0.597475  2.214970e+07\n",
      "75%      0.851988    0.885563    0.819900    0.851988  3.887495e+07\n",
      "max      1.834900    1.968575    1.650525    1.834900  2.128914e+08\n",
      "-----------\n"
     ]
    },
    {
     "data": {
      "application/javascript": [
       "\n",
       "            setTimeout(function() {\n",
       "                var nbb_cell_id = 8;\n",
       "                var nbb_unformatted_code = \"for ohlcv in ohlcv_s:\\n    ohlcv_s[ohlcv][\\\"date\\\"] = pd.to_datetime(ohlcv_s[ohlcv][\\\"date\\\"], unit=\\\"ms\\\")\\n    print(ohlcv, end=\\\"\\\\n\\\")\\n    print(ohlcv_s[ohlcv].tail(5))\\n    print(ohlcv_s[ohlcv].describe())\\n    print(\\\"-----------\\\", end=\\\"\\\\n\\\")\";\n",
       "                var nbb_formatted_code = \"for ohlcv in ohlcv_s:\\n    ohlcv_s[ohlcv][\\\"date\\\"] = pd.to_datetime(ohlcv_s[ohlcv][\\\"date\\\"], unit=\\\"ms\\\")\\n    print(ohlcv, end=\\\"\\\\n\\\")\\n    print(ohlcv_s[ohlcv].tail(5))\\n    print(ohlcv_s[ohlcv].describe())\\n    print(\\\"-----------\\\", end=\\\"\\\\n\\\")\";\n",
       "                var nbb_cells = Jupyter.notebook.get_cells();\n",
       "                for (var i = 0; i < nbb_cells.length; ++i) {\n",
       "                    if (nbb_cells[i].input_prompt_number == nbb_cell_id) {\n",
       "                        if (nbb_cells[i].get_text() == nbb_unformatted_code) {\n",
       "                             nbb_cells[i].set_text(nbb_formatted_code);\n",
       "                        }\n",
       "                        break;\n",
       "                    }\n",
       "                }\n",
       "            }, 500);\n",
       "            "
      ],
      "text/plain": [
       "<IPython.core.display.Javascript object>"
      ]
     },
     "metadata": {},
     "output_type": "display_data"
    }
   ],
   "source": [
    "for ohlcv in ohlcv_s:\n",
    "    ohlcv_s[ohlcv][\"date\"] = pd.to_datetime(ohlcv_s[ohlcv][\"date\"], unit=\"ms\")\n",
    "    print(ohlcv, end=\"\\n\")\n",
    "    print(ohlcv_s[ohlcv].tail(5))\n",
    "    print(ohlcv_s[ohlcv].describe())\n",
    "    print(\"-----------\", end=\"\\n\")"
   ]
  },
  {
   "cell_type": "markdown",
   "id": "c2676768",
   "metadata": {},
   "source": [
    "A ticker is simply an indicator of a certain asset that is regularly updated by the different stock market exchanges throughout the trading session. Those who are familiar with the content of a financial news channel have probably seen the bottom of the display's unending loop of stocks and commodities scrolling by at a tremendous pace."
   ]
  },
  {
   "cell_type": "code",
   "execution_count": 9,
   "id": "20fb7300",
   "metadata": {},
   "outputs": [
    {
     "data": {
      "application/javascript": [
       "\n",
       "            setTimeout(function() {\n",
       "                var nbb_cell_id = 9;\n",
       "                var nbb_unformatted_code = \"tickers = pd.DataFrame(exchange.fetch_tickers(symbols=symbol_list)).T.set_index(\\n    \\\"symbol\\\"\\n)\";\n",
       "                var nbb_formatted_code = \"tickers = pd.DataFrame(exchange.fetch_tickers(symbols=symbol_list)).T.set_index(\\n    \\\"symbol\\\"\\n)\";\n",
       "                var nbb_cells = Jupyter.notebook.get_cells();\n",
       "                for (var i = 0; i < nbb_cells.length; ++i) {\n",
       "                    if (nbb_cells[i].input_prompt_number == nbb_cell_id) {\n",
       "                        if (nbb_cells[i].get_text() == nbb_unformatted_code) {\n",
       "                             nbb_cells[i].set_text(nbb_formatted_code);\n",
       "                        }\n",
       "                        break;\n",
       "                    }\n",
       "                }\n",
       "            }, 500);\n",
       "            "
      ],
      "text/plain": [
       "<IPython.core.display.Javascript object>"
      ]
     },
     "metadata": {},
     "output_type": "display_data"
    }
   ],
   "source": [
    "tickers = pd.DataFrame(exchange.fetch_tickers(symbols=symbol_list)).T.set_index(\n",
    "    \"symbol\"\n",
    ")"
   ]
  },
  {
   "cell_type": "code",
   "execution_count": 10,
   "id": "d295cfb3",
   "metadata": {},
   "outputs": [
    {
     "data": {
      "text/html": [
       "<div>\n",
       "<style scoped>\n",
       "    .dataframe tbody tr th:only-of-type {\n",
       "        vertical-align: middle;\n",
       "    }\n",
       "\n",
       "    .dataframe tbody tr th {\n",
       "        vertical-align: top;\n",
       "    }\n",
       "\n",
       "    .dataframe thead th {\n",
       "        text-align: right;\n",
       "    }\n",
       "</style>\n",
       "<table border=\"1\" class=\"dataframe\">\n",
       "  <thead>\n",
       "    <tr style=\"text-align: right;\">\n",
       "      <th></th>\n",
       "      <th>percentage</th>\n",
       "      <th>quoteVolume</th>\n",
       "    </tr>\n",
       "    <tr>\n",
       "      <th>symbol</th>\n",
       "      <th></th>\n",
       "      <th></th>\n",
       "    </tr>\n",
       "  </thead>\n",
       "  <tbody>\n",
       "    <tr>\n",
       "      <th>ATOM/USD</th>\n",
       "      <td>-3.33909</td>\n",
       "      <td>7947410.46</td>\n",
       "    </tr>\n",
       "    <tr>\n",
       "      <th>BNB/USD</th>\n",
       "      <td>0.975436</td>\n",
       "      <td>18510116.86253</td>\n",
       "    </tr>\n",
       "    <tr>\n",
       "      <th>BTC/USD</th>\n",
       "      <td>-1.040604</td>\n",
       "      <td>771485932.6275</td>\n",
       "    </tr>\n",
       "    <tr>\n",
       "      <th>ETH/USD</th>\n",
       "      <td>-0.157092</td>\n",
       "      <td>562391138.5384</td>\n",
       "    </tr>\n",
       "    <tr>\n",
       "      <th>ETHW/USD</th>\n",
       "      <td>11.902144</td>\n",
       "      <td>28124700.433726</td>\n",
       "    </tr>\n",
       "    <tr>\n",
       "      <th>FTT/USD</th>\n",
       "      <td>0.170124</td>\n",
       "      <td>13449393.3988</td>\n",
       "    </tr>\n",
       "    <tr>\n",
       "      <th>LINK/USD</th>\n",
       "      <td>-1.291501</td>\n",
       "      <td>17491402.9245</td>\n",
       "    </tr>\n",
       "    <tr>\n",
       "      <th>SOL/USD</th>\n",
       "      <td>0.564468</td>\n",
       "      <td>57195000.4609</td>\n",
       "    </tr>\n",
       "    <tr>\n",
       "      <th>USDT/USD</th>\n",
       "      <td>0.020002</td>\n",
       "      <td>78984678.200175</td>\n",
       "    </tr>\n",
       "    <tr>\n",
       "      <th>XRP/USD</th>\n",
       "      <td>-0.443837</td>\n",
       "      <td>73875401.75185</td>\n",
       "    </tr>\n",
       "  </tbody>\n",
       "</table>\n",
       "</div>"
      ],
      "text/plain": [
       "         percentage      quoteVolume\n",
       "symbol                              \n",
       "ATOM/USD   -3.33909       7947410.46\n",
       "BNB/USD    0.975436   18510116.86253\n",
       "BTC/USD   -1.040604   771485932.6275\n",
       "ETH/USD   -0.157092   562391138.5384\n",
       "ETHW/USD  11.902144  28124700.433726\n",
       "FTT/USD    0.170124    13449393.3988\n",
       "LINK/USD  -1.291501    17491402.9245\n",
       "SOL/USD    0.564468    57195000.4609\n",
       "USDT/USD   0.020002  78984678.200175\n",
       "XRP/USD   -0.443837   73875401.75185"
      ]
     },
     "execution_count": 10,
     "metadata": {},
     "output_type": "execute_result"
    },
    {
     "data": {
      "application/javascript": [
       "\n",
       "            setTimeout(function() {\n",
       "                var nbb_cell_id = 10;\n",
       "                var nbb_unformatted_code = \"tickers[[\\\"percentage\\\", \\\"quoteVolume\\\"]]\";\n",
       "                var nbb_formatted_code = \"tickers[[\\\"percentage\\\", \\\"quoteVolume\\\"]]\";\n",
       "                var nbb_cells = Jupyter.notebook.get_cells();\n",
       "                for (var i = 0; i < nbb_cells.length; ++i) {\n",
       "                    if (nbb_cells[i].input_prompt_number == nbb_cell_id) {\n",
       "                        if (nbb_cells[i].get_text() == nbb_unformatted_code) {\n",
       "                             nbb_cells[i].set_text(nbb_formatted_code);\n",
       "                        }\n",
       "                        break;\n",
       "                    }\n",
       "                }\n",
       "            }, 500);\n",
       "            "
      ],
      "text/plain": [
       "<IPython.core.display.Javascript object>"
      ]
     },
     "metadata": {},
     "output_type": "display_data"
    }
   ],
   "source": [
    "tickers[[\"percentage\", \"quoteVolume\"]]"
   ]
  },
  {
   "cell_type": "code",
   "execution_count": 11,
   "id": "1768021c",
   "metadata": {},
   "outputs": [
    {
     "data": {
      "application/javascript": [
       "\n",
       "            setTimeout(function() {\n",
       "                var nbb_cell_id = 11;\n",
       "                var nbb_unformatted_code = \"URL_BASE = \\\"https://ftx.com/api\\\"\\n\\n\\ndef get_market():\\n    url = f\\\"{URL_BASE}/markets/BTC/USD\\\"\\n    res = requests.get(url).json()\\n    result = pd.DataFrame(res[\\\"result\\\"], index=[0])\\n    priceHigh24h = float(result[\\\"priceHigh24h\\\"])\\n    priceLow24h = float(result[\\\"priceLow24h\\\"])\\n    volumeUsd24h = float(result[\\\"volumeUsd24h\\\"])\\n    change24h = float(result[\\\"change24h\\\"])\\n    return priceHigh24h, priceLow24h, volumeUsd24h, change24h\";\n",
       "                var nbb_formatted_code = \"URL_BASE = \\\"https://ftx.com/api\\\"\\n\\n\\ndef get_market():\\n    url = f\\\"{URL_BASE}/markets/BTC/USD\\\"\\n    res = requests.get(url).json()\\n    result = pd.DataFrame(res[\\\"result\\\"], index=[0])\\n    priceHigh24h = float(result[\\\"priceHigh24h\\\"])\\n    priceLow24h = float(result[\\\"priceLow24h\\\"])\\n    volumeUsd24h = float(result[\\\"volumeUsd24h\\\"])\\n    change24h = float(result[\\\"change24h\\\"])\\n    return priceHigh24h, priceLow24h, volumeUsd24h, change24h\";\n",
       "                var nbb_cells = Jupyter.notebook.get_cells();\n",
       "                for (var i = 0; i < nbb_cells.length; ++i) {\n",
       "                    if (nbb_cells[i].input_prompt_number == nbb_cell_id) {\n",
       "                        if (nbb_cells[i].get_text() == nbb_unformatted_code) {\n",
       "                             nbb_cells[i].set_text(nbb_formatted_code);\n",
       "                        }\n",
       "                        break;\n",
       "                    }\n",
       "                }\n",
       "            }, 500);\n",
       "            "
      ],
      "text/plain": [
       "<IPython.core.display.Javascript object>"
      ]
     },
     "metadata": {},
     "output_type": "display_data"
    }
   ],
   "source": [
    "URL_BASE = \"https://ftx.com/api\"\n",
    "\n",
    "\n",
    "def get_market():\n",
    "    url = f\"{URL_BASE}/markets/BTC/USD\"\n",
    "    res = requests.get(url).json()\n",
    "    result = pd.DataFrame(res[\"result\"], index=[0])\n",
    "    priceHigh24h = float(result[\"priceHigh24h\"])\n",
    "    priceLow24h = float(result[\"priceLow24h\"])\n",
    "    volumeUsd24h = float(result[\"volumeUsd24h\"])\n",
    "    change24h = float(result[\"change24h\"])\n",
    "    return priceHigh24h, priceLow24h, volumeUsd24h, change24h"
   ]
  },
  {
   "cell_type": "code",
   "execution_count": 12,
   "id": "025be5d0",
   "metadata": {},
   "outputs": [
    {
     "data": {
      "text/plain": [
       "(19767.0, 18847.0, 771485932.6275, -0.009947457021884406)"
      ]
     },
     "execution_count": 12,
     "metadata": {},
     "output_type": "execute_result"
    },
    {
     "data": {
      "application/javascript": [
       "\n",
       "            setTimeout(function() {\n",
       "                var nbb_cell_id = 12;\n",
       "                var nbb_unformatted_code = \"get_market()\";\n",
       "                var nbb_formatted_code = \"get_market()\";\n",
       "                var nbb_cells = Jupyter.notebook.get_cells();\n",
       "                for (var i = 0; i < nbb_cells.length; ++i) {\n",
       "                    if (nbb_cells[i].input_prompt_number == nbb_cell_id) {\n",
       "                        if (nbb_cells[i].get_text() == nbb_unformatted_code) {\n",
       "                             nbb_cells[i].set_text(nbb_formatted_code);\n",
       "                        }\n",
       "                        break;\n",
       "                    }\n",
       "                }\n",
       "            }, 500);\n",
       "            "
      ],
      "text/plain": [
       "<IPython.core.display.Javascript object>"
      ]
     },
     "metadata": {},
     "output_type": "display_data"
    }
   ],
   "source": [
    "get_market()"
   ]
  },
  {
   "cell_type": "code",
   "execution_count": 49,
   "id": "0378152c",
   "metadata": {},
   "outputs": [
    {
     "name": "stdout",
     "output_type": "stream",
     "text": [
      "19398.0 0.0012387736141220192 -0.010508059579677617 -0.0021604938271604936 771485932.6275 771485932.6275 19767.0 18847.0\n"
     ]
    },
    {
     "data": {
      "application/javascript": [
       "\n",
       "            setTimeout(function() {\n",
       "                var nbb_cell_id = 49;\n",
       "                var nbb_unformatted_code = \"n = pd.DataFrame(exchange.markets[\\\"BTC/USD\\\"])\\nprice = n[\\\"info\\\"][\\\"price\\\"]\\nchange1h = n[\\\"info\\\"][\\\"change1h\\\"]\\nchange24h = n[\\\"info\\\"][\\\"change24h\\\"]\\nchangeBod = n[\\\"info\\\"][\\\"changeBod\\\"]\\nquoteVolume24h = n[\\\"info\\\"][\\\"quoteVolume24h\\\"]\\nvolumeUsd24h = n[\\\"info\\\"][\\\"volumeUsd24h\\\"]\\npriceHigh24h = n[\\\"info\\\"][\\\"priceHigh24h\\\"]\\npriceLow24h = n[\\\"info\\\"][\\\"priceLow24h\\\"]\\nprint(price, change1h, change24h, changeBod, quoteVolume24h, volumeUsd24h, priceHigh24h, priceLow24h)\";\n",
       "                var nbb_formatted_code = \"n = pd.DataFrame(exchange.markets[\\\"BTC/USD\\\"])\\nprice = n[\\\"info\\\"][\\\"price\\\"]\\nchange1h = n[\\\"info\\\"][\\\"change1h\\\"]\\nchange24h = n[\\\"info\\\"][\\\"change24h\\\"]\\nchangeBod = n[\\\"info\\\"][\\\"changeBod\\\"]\\nquoteVolume24h = n[\\\"info\\\"][\\\"quoteVolume24h\\\"]\\nvolumeUsd24h = n[\\\"info\\\"][\\\"volumeUsd24h\\\"]\\npriceHigh24h = n[\\\"info\\\"][\\\"priceHigh24h\\\"]\\npriceLow24h = n[\\\"info\\\"][\\\"priceLow24h\\\"]\\nprint(\\n    price,\\n    change1h,\\n    change24h,\\n    changeBod,\\n    quoteVolume24h,\\n    volumeUsd24h,\\n    priceHigh24h,\\n    priceLow24h,\\n)\";\n",
       "                var nbb_cells = Jupyter.notebook.get_cells();\n",
       "                for (var i = 0; i < nbb_cells.length; ++i) {\n",
       "                    if (nbb_cells[i].input_prompt_number == nbb_cell_id) {\n",
       "                        if (nbb_cells[i].get_text() == nbb_unformatted_code) {\n",
       "                             nbb_cells[i].set_text(nbb_formatted_code);\n",
       "                        }\n",
       "                        break;\n",
       "                    }\n",
       "                }\n",
       "            }, 500);\n",
       "            "
      ],
      "text/plain": [
       "<IPython.core.display.Javascript object>"
      ]
     },
     "metadata": {},
     "output_type": "display_data"
    }
   ],
   "source": [
    "n = pd.DataFrame(exchange.markets[\"BTC/USD\"])\n",
    "price = n[\"info\"][\"price\"]\n",
    "change1h = n[\"info\"][\"change1h\"]\n",
    "change24h = n[\"info\"][\"change24h\"]\n",
    "changeBod = n[\"info\"][\"changeBod\"]\n",
    "quoteVolume24h = n[\"info\"][\"quoteVolume24h\"]\n",
    "volumeUsd24h = n[\"info\"][\"volumeUsd24h\"]\n",
    "priceHigh24h = n[\"info\"][\"priceHigh24h\"]\n",
    "priceLow24h = n[\"info\"][\"priceLow24h\"]\n",
    "print(\n",
    "    price,\n",
    "    change1h,\n",
    "    change24h,\n",
    "    changeBod,\n",
    "    quoteVolume24h,\n",
    "    volumeUsd24h,\n",
    "    priceHigh24h,\n",
    "    priceLow24h,\n",
    ")"
   ]
  },
  {
   "cell_type": "code",
   "execution_count": 40,
   "id": "02fc7064",
   "metadata": {},
   "outputs": [
    {
     "data": {
      "text/plain": [
       "'19398.0'"
      ]
     },
     "execution_count": 40,
     "metadata": {},
     "output_type": "execute_result"
    },
    {
     "data": {
      "application/javascript": [
       "\n",
       "            setTimeout(function() {\n",
       "                var nbb_cell_id = 40;\n",
       "                var nbb_unformatted_code = \"n\";\n",
       "                var nbb_formatted_code = \"n\";\n",
       "                var nbb_cells = Jupyter.notebook.get_cells();\n",
       "                for (var i = 0; i < nbb_cells.length; ++i) {\n",
       "                    if (nbb_cells[i].input_prompt_number == nbb_cell_id) {\n",
       "                        if (nbb_cells[i].get_text() == nbb_unformatted_code) {\n",
       "                             nbb_cells[i].set_text(nbb_formatted_code);\n",
       "                        }\n",
       "                        break;\n",
       "                    }\n",
       "                }\n",
       "            }, 500);\n",
       "            "
      ],
      "text/plain": [
       "<IPython.core.display.Javascript object>"
      ]
     },
     "metadata": {},
     "output_type": "display_data"
    }
   ],
   "source": [
    "n"
   ]
  },
  {
   "cell_type": "code",
   "execution_count": 48,
   "id": "c67ab1ce",
   "metadata": {},
   "outputs": [
    {
     "data": {
      "text/plain": [
       "amount                                      NaN\n",
       "price                                   19398.0\n",
       "cost                                        NaN\n",
       "leverage                                    NaN\n",
       "name                                    BTC/USD\n",
       "enabled                                    True\n",
       "postOnly                                  False\n",
       "priceIncrement                              1.0\n",
       "sizeIncrement                            0.0001\n",
       "minProvideSize                           0.0001\n",
       "last                                    19398.0\n",
       "bid                                     19397.0\n",
       "ask                                     19398.0\n",
       "type                                       spot\n",
       "futureType                                 None\n",
       "baseCurrency                                BTC\n",
       "isEtfMarket                               False\n",
       "quoteCurrency                               USD\n",
       "underlying                                 None\n",
       "restricted                                False\n",
       "highLeverageFeeExempt                      True\n",
       "largeOrderThreshold                      2400.0\n",
       "change1h                  0.0012387736141220192\n",
       "change24h                 -0.010508059579677617\n",
       "changeBod                -0.0021604938271604936\n",
       "quoteVolume24h                   771485932.6275\n",
       "volumeUsd24h                     771485932.6275\n",
       "priceHigh24h                            19767.0\n",
       "priceLow24h                             18847.0\n",
       "taker                                       NaN\n",
       "maker                                       NaN\n",
       "Name: info, dtype: object"
      ]
     },
     "execution_count": 48,
     "metadata": {},
     "output_type": "execute_result"
    },
    {
     "data": {
      "application/javascript": [
       "\n",
       "            setTimeout(function() {\n",
       "                var nbb_cell_id = 48;\n",
       "                var nbb_unformatted_code = \"n[\\\"info\\\"]\";\n",
       "                var nbb_formatted_code = \"n[\\\"info\\\"]\";\n",
       "                var nbb_cells = Jupyter.notebook.get_cells();\n",
       "                for (var i = 0; i < nbb_cells.length; ++i) {\n",
       "                    if (nbb_cells[i].input_prompt_number == nbb_cell_id) {\n",
       "                        if (nbb_cells[i].get_text() == nbb_unformatted_code) {\n",
       "                             nbb_cells[i].set_text(nbb_formatted_code);\n",
       "                        }\n",
       "                        break;\n",
       "                    }\n",
       "                }\n",
       "            }, 500);\n",
       "            "
      ],
      "text/plain": [
       "<IPython.core.display.Javascript object>"
      ]
     },
     "metadata": {},
     "output_type": "display_data"
    }
   ],
   "source": [
    "n[\"info\"]"
   ]
  },
  {
   "cell_type": "code",
   "execution_count": 17,
   "id": "fddd2945",
   "metadata": {},
   "outputs": [
    {
     "data": {
      "application/javascript": [
       "\n",
       "            setTimeout(function() {\n",
       "                var nbb_cell_id = 17;\n",
       "                var nbb_unformatted_code = \"p = exchange.timeframes\";\n",
       "                var nbb_formatted_code = \"p = exchange.timeframes\";\n",
       "                var nbb_cells = Jupyter.notebook.get_cells();\n",
       "                for (var i = 0; i < nbb_cells.length; ++i) {\n",
       "                    if (nbb_cells[i].input_prompt_number == nbb_cell_id) {\n",
       "                        if (nbb_cells[i].get_text() == nbb_unformatted_code) {\n",
       "                             nbb_cells[i].set_text(nbb_formatted_code);\n",
       "                        }\n",
       "                        break;\n",
       "                    }\n",
       "                }\n",
       "            }, 500);\n",
       "            "
      ],
      "text/plain": [
       "<IPython.core.display.Javascript object>"
      ]
     },
     "metadata": {},
     "output_type": "display_data"
    }
   ],
   "source": [
    "p = exchange.timeframes"
   ]
  },
  {
   "cell_type": "code",
   "execution_count": 25,
   "id": "bfc5590a",
   "metadata": {},
   "outputs": [
    {
     "data": {
      "text/plain": [
       "['15s', '1m', '5m', '15m', '1h', '4h', '1d', '3d', '1w', '2w', '1M']"
      ]
     },
     "execution_count": 25,
     "metadata": {},
     "output_type": "execute_result"
    },
    {
     "data": {
      "application/javascript": [
       "\n",
       "            setTimeout(function() {\n",
       "                var nbb_cell_id = 25;\n",
       "                var nbb_unformatted_code = \"[x for x in p.keys()]\";\n",
       "                var nbb_formatted_code = \"[x for x in p.keys()]\";\n",
       "                var nbb_cells = Jupyter.notebook.get_cells();\n",
       "                for (var i = 0; i < nbb_cells.length; ++i) {\n",
       "                    if (nbb_cells[i].input_prompt_number == nbb_cell_id) {\n",
       "                        if (nbb_cells[i].get_text() == nbb_unformatted_code) {\n",
       "                             nbb_cells[i].set_text(nbb_formatted_code);\n",
       "                        }\n",
       "                        break;\n",
       "                    }\n",
       "                }\n",
       "            }, 500);\n",
       "            "
      ],
      "text/plain": [
       "<IPython.core.display.Javascript object>"
      ]
     },
     "metadata": {},
     "output_type": "display_data"
    }
   ],
   "source": [
    "[x for x in p.keys()]"
   ]
  },
  {
   "cell_type": "code",
   "execution_count": 71,
   "id": "e50da129",
   "metadata": {},
   "outputs": [
    {
     "data": {
      "application/javascript": [
       "\n",
       "            setTimeout(function() {\n",
       "                var nbb_cell_id = 71;\n",
       "                var nbb_unformatted_code = \"def min_ohlcv(dt, pair, limit):\\n    # UTC native object\\n    since = calendar.timegm(dt.utctimetuple()) * 1000\\n    ohlcv1 = exchange.fetch_ohlcv(symbol=pair, timeframe=\\\"1m\\\", since=since, limit=limit)\\n    ohlcv2 = exchange.fetch_ohlcv(symbol=pair, timeframe=\\\"1m\\\", since=since, limit=limit)\\n    ohlcv = ohlcv1 + ohlcv2\\n    return ohlcv\\n\\n\\ndef ohlcv(dt, pair, period=\\\"1d\\\"):\\n    ohlcv = []\\n    limit = 1000\\n    if period == \\\"1m\\\":\\n        limit = 720\\n    elif period == \\\"1d\\\":\\n        limit = 365\\n    elif period == \\\"1h\\\":\\n        limit = 24\\n    elif period == \\\"5m\\\":\\n        limit = 288\\n    for i in dt:\\n        start_dt = datetime.strptime(i, \\\"%Y%m%d\\\")\\n        since = calendar.timegm(start_dt.utctimetuple()) * 1000\\n        if period == \\\"1m\\\":\\n            ohlcv.extend(min_ohlcv(start_dt, pair, limit))\\n        else:\\n            ohlcv.extend(\\n                exchange.fetch_ohlcv(\\n                    symbol=pair, timeframe=period, since=since, limit=limit\\n                )\\n            )\\n    df = pd.DataFrame(ohlcv, columns=[\\\"Time\\\", \\\"Open\\\", \\\"High\\\", \\\"Low\\\", \\\"Close\\\", \\\"Volume\\\"])\\n    df[\\\"Time\\\"] = [datetime.fromtimestamp(float(time) / 1000) for time in df[\\\"Time\\\"]]\\n    df[\\\"Open\\\"] = df[\\\"Open\\\"].astype(np.float64)\\n    df[\\\"High\\\"] = df[\\\"High\\\"].astype(np.float64)\\n    df[\\\"Low\\\"] = df[\\\"Low\\\"].astype(np.float64)\\n    df[\\\"Close\\\"] = df[\\\"Close\\\"].astype(np.float64)\\n    df[\\\"Volume\\\"] = df[\\\"Volume\\\"].astype(np.float64)\\n    #df.set_index(\\\"Time\\\", inplace=True)\\n    return df\";\n",
       "                var nbb_formatted_code = \"def min_ohlcv(dt, pair, limit):\\n    # UTC native object\\n    since = calendar.timegm(dt.utctimetuple()) * 1000\\n    ohlcv1 = exchange.fetch_ohlcv(symbol=pair, timeframe=\\\"1m\\\", since=since, limit=limit)\\n    ohlcv2 = exchange.fetch_ohlcv(symbol=pair, timeframe=\\\"1m\\\", since=since, limit=limit)\\n    ohlcv = ohlcv1 + ohlcv2\\n    return ohlcv\\n\\n\\ndef ohlcv(dt, pair, period=\\\"1d\\\"):\\n    ohlcv = []\\n    limit = 1000\\n    if period == \\\"1m\\\":\\n        limit = 720\\n    elif period == \\\"1d\\\":\\n        limit = 365\\n    elif period == \\\"1h\\\":\\n        limit = 24\\n    elif period == \\\"5m\\\":\\n        limit = 288\\n    for i in dt:\\n        start_dt = datetime.strptime(i, \\\"%Y%m%d\\\")\\n        since = calendar.timegm(start_dt.utctimetuple()) * 1000\\n        if period == \\\"1m\\\":\\n            ohlcv.extend(min_ohlcv(start_dt, pair, limit))\\n        else:\\n            ohlcv.extend(\\n                exchange.fetch_ohlcv(\\n                    symbol=pair, timeframe=period, since=since, limit=limit\\n                )\\n            )\\n    df = pd.DataFrame(ohlcv, columns=[\\\"Time\\\", \\\"Open\\\", \\\"High\\\", \\\"Low\\\", \\\"Close\\\", \\\"Volume\\\"])\\n    df[\\\"Time\\\"] = [datetime.fromtimestamp(float(time) / 1000) for time in df[\\\"Time\\\"]]\\n    df[\\\"Open\\\"] = df[\\\"Open\\\"].astype(np.float64)\\n    df[\\\"High\\\"] = df[\\\"High\\\"].astype(np.float64)\\n    df[\\\"Low\\\"] = df[\\\"Low\\\"].astype(np.float64)\\n    df[\\\"Close\\\"] = df[\\\"Close\\\"].astype(np.float64)\\n    df[\\\"Volume\\\"] = df[\\\"Volume\\\"].astype(np.float64)\\n    # df.set_index(\\\"Time\\\", inplace=True)\\n    return df\";\n",
       "                var nbb_cells = Jupyter.notebook.get_cells();\n",
       "                for (var i = 0; i < nbb_cells.length; ++i) {\n",
       "                    if (nbb_cells[i].input_prompt_number == nbb_cell_id) {\n",
       "                        if (nbb_cells[i].get_text() == nbb_unformatted_code) {\n",
       "                             nbb_cells[i].set_text(nbb_formatted_code);\n",
       "                        }\n",
       "                        break;\n",
       "                    }\n",
       "                }\n",
       "            }, 500);\n",
       "            "
      ],
      "text/plain": [
       "<IPython.core.display.Javascript object>"
      ]
     },
     "metadata": {},
     "output_type": "display_data"
    }
   ],
   "source": [
    "def min_ohlcv(dt, pair, limit):\n",
    "    # UTC native object\n",
    "    since = calendar.timegm(dt.utctimetuple()) * 1000\n",
    "    ohlcv1 = exchange.fetch_ohlcv(symbol=pair, timeframe=\"1m\", since=since, limit=limit)\n",
    "    ohlcv2 = exchange.fetch_ohlcv(symbol=pair, timeframe=\"1m\", since=since, limit=limit)\n",
    "    ohlcv = ohlcv1 + ohlcv2\n",
    "    return ohlcv\n",
    "\n",
    "\n",
    "def ohlcv(dt, pair, period=\"1d\"):\n",
    "    ohlcv = []\n",
    "    limit = 1000\n",
    "    if period == \"1m\":\n",
    "        limit = 720\n",
    "    elif period == \"1d\":\n",
    "        limit = 365\n",
    "    elif period == \"1h\":\n",
    "        limit = 24\n",
    "    elif period == \"5m\":\n",
    "        limit = 288\n",
    "    for i in dt:\n",
    "        start_dt = datetime.strptime(i, \"%Y%m%d\")\n",
    "        since = calendar.timegm(start_dt.utctimetuple()) * 1000\n",
    "        if period == \"1m\":\n",
    "            ohlcv.extend(min_ohlcv(start_dt, pair, limit))\n",
    "        else:\n",
    "            ohlcv.extend(\n",
    "                exchange.fetch_ohlcv(\n",
    "                    symbol=pair, timeframe=period, since=since, limit=limit\n",
    "                )\n",
    "            )\n",
    "    df = pd.DataFrame(ohlcv, columns=[\"Time\", \"Open\", \"High\", \"Low\", \"Close\", \"Volume\"])\n",
    "    df[\"Time\"] = [datetime.fromtimestamp(float(time) / 1000) for time in df[\"Time\"]]\n",
    "    df[\"Open\"] = df[\"Open\"].astype(np.float64)\n",
    "    df[\"High\"] = df[\"High\"].astype(np.float64)\n",
    "    df[\"Low\"] = df[\"Low\"].astype(np.float64)\n",
    "    df[\"Close\"] = df[\"Close\"].astype(np.float64)\n",
    "    df[\"Volume\"] = df[\"Volume\"].astype(np.float64)\n",
    "    # df.set_index(\"Time\", inplace=True)\n",
    "    return df"
   ]
  },
  {
   "cell_type": "code",
   "execution_count": 73,
   "id": "e0b10db7",
   "metadata": {},
   "outputs": [
    {
     "data": {
      "text/html": [
       "<div>\n",
       "<style scoped>\n",
       "    .dataframe tbody tr th:only-of-type {\n",
       "        vertical-align: middle;\n",
       "    }\n",
       "\n",
       "    .dataframe tbody tr th {\n",
       "        vertical-align: top;\n",
       "    }\n",
       "\n",
       "    .dataframe thead th {\n",
       "        text-align: right;\n",
       "    }\n",
       "</style>\n",
       "<table border=\"1\" class=\"dataframe\">\n",
       "  <thead>\n",
       "    <tr style=\"text-align: right;\">\n",
       "      <th></th>\n",
       "      <th>Time</th>\n",
       "      <th>Open</th>\n",
       "      <th>High</th>\n",
       "      <th>Low</th>\n",
       "      <th>Close</th>\n",
       "      <th>Volume</th>\n",
       "    </tr>\n",
       "  </thead>\n",
       "  <tbody>\n",
       "    <tr>\n",
       "      <th>0</th>\n",
       "      <td>2021-12-31 19:00:00</td>\n",
       "      <td>46199.0</td>\n",
       "      <td>48255.0</td>\n",
       "      <td>32915.0</td>\n",
       "      <td>37909.0</td>\n",
       "      <td>1.590282e+10</td>\n",
       "    </tr>\n",
       "    <tr>\n",
       "      <th>1</th>\n",
       "      <td>2022-01-30 19:00:00</td>\n",
       "      <td>37909.0</td>\n",
       "      <td>45880.0</td>\n",
       "      <td>34334.0</td>\n",
       "      <td>44452.0</td>\n",
       "      <td>1.584033e+10</td>\n",
       "    </tr>\n",
       "    <tr>\n",
       "      <th>2</th>\n",
       "      <td>2022-03-01 19:00:00</td>\n",
       "      <td>44452.0</td>\n",
       "      <td>48224.0</td>\n",
       "      <td>37154.0</td>\n",
       "      <td>45523.0</td>\n",
       "      <td>1.447041e+10</td>\n",
       "    </tr>\n",
       "    <tr>\n",
       "      <th>3</th>\n",
       "      <td>2022-03-31 19:00:00</td>\n",
       "      <td>45523.0</td>\n",
       "      <td>47462.0</td>\n",
       "      <td>37574.0</td>\n",
       "      <td>37630.0</td>\n",
       "      <td>1.200522e+10</td>\n",
       "    </tr>\n",
       "    <tr>\n",
       "      <th>4</th>\n",
       "      <td>2022-04-30 19:00:00</td>\n",
       "      <td>37630.0</td>\n",
       "      <td>40026.0</td>\n",
       "      <td>25429.0</td>\n",
       "      <td>31711.0</td>\n",
       "      <td>2.421718e+10</td>\n",
       "    </tr>\n",
       "    <tr>\n",
       "      <th>5</th>\n",
       "      <td>2022-05-30 19:00:00</td>\n",
       "      <td>31711.0</td>\n",
       "      <td>32380.0</td>\n",
       "      <td>17580.0</td>\n",
       "      <td>20096.0</td>\n",
       "      <td>2.617592e+10</td>\n",
       "    </tr>\n",
       "    <tr>\n",
       "      <th>6</th>\n",
       "      <td>2022-06-29 19:00:00</td>\n",
       "      <td>20096.0</td>\n",
       "      <td>24452.0</td>\n",
       "      <td>18611.0</td>\n",
       "      <td>23784.0</td>\n",
       "      <td>1.815205e+10</td>\n",
       "    </tr>\n",
       "    <tr>\n",
       "      <th>7</th>\n",
       "      <td>2022-07-29 19:00:00</td>\n",
       "      <td>23784.0</td>\n",
       "      <td>25215.0</td>\n",
       "      <td>19516.0</td>\n",
       "      <td>19555.0</td>\n",
       "      <td>1.410498e+10</td>\n",
       "    </tr>\n",
       "    <tr>\n",
       "      <th>8</th>\n",
       "      <td>2022-08-28 19:00:00</td>\n",
       "      <td>19555.0</td>\n",
       "      <td>22912.0</td>\n",
       "      <td>18142.0</td>\n",
       "      <td>19077.0</td>\n",
       "      <td>1.634034e+10</td>\n",
       "    </tr>\n",
       "    <tr>\n",
       "      <th>9</th>\n",
       "      <td>2022-09-27 19:00:00</td>\n",
       "      <td>19078.0</td>\n",
       "      <td>19769.0</td>\n",
       "      <td>18464.0</td>\n",
       "      <td>19532.0</td>\n",
       "      <td>1.622716e+09</td>\n",
       "    </tr>\n",
       "    <tr>\n",
       "      <th>10</th>\n",
       "      <td>2022-09-28 19:00:00</td>\n",
       "      <td>19415.0</td>\n",
       "      <td>19655.0</td>\n",
       "      <td>18846.0</td>\n",
       "      <td>19532.0</td>\n",
       "      <td>7.042639e+08</td>\n",
       "    </tr>\n",
       "  </tbody>\n",
       "</table>\n",
       "</div>"
      ],
      "text/plain": [
       "                  Time     Open     High      Low    Close        Volume\n",
       "0  2021-12-31 19:00:00  46199.0  48255.0  32915.0  37909.0  1.590282e+10\n",
       "1  2022-01-30 19:00:00  37909.0  45880.0  34334.0  44452.0  1.584033e+10\n",
       "2  2022-03-01 19:00:00  44452.0  48224.0  37154.0  45523.0  1.447041e+10\n",
       "3  2022-03-31 19:00:00  45523.0  47462.0  37574.0  37630.0  1.200522e+10\n",
       "4  2022-04-30 19:00:00  37630.0  40026.0  25429.0  31711.0  2.421718e+10\n",
       "5  2022-05-30 19:00:00  31711.0  32380.0  17580.0  20096.0  2.617592e+10\n",
       "6  2022-06-29 19:00:00  20096.0  24452.0  18611.0  23784.0  1.815205e+10\n",
       "7  2022-07-29 19:00:00  23784.0  25215.0  19516.0  19555.0  1.410498e+10\n",
       "8  2022-08-28 19:00:00  19555.0  22912.0  18142.0  19077.0  1.634034e+10\n",
       "9  2022-09-27 19:00:00  19078.0  19769.0  18464.0  19532.0  1.622716e+09\n",
       "10 2022-09-28 19:00:00  19415.0  19655.0  18846.0  19532.0  7.042639e+08"
      ]
     },
     "execution_count": 73,
     "metadata": {},
     "output_type": "execute_result"
    },
    {
     "data": {
      "application/javascript": [
       "\n",
       "            setTimeout(function() {\n",
       "                var nbb_cell_id = 73;\n",
       "                var nbb_unformatted_code = \"dt = [\\\"20220101\\\", \\\"20220929\\\"]\\ndf = ohlcv(dt, \\\"BTC/USD\\\", period=\\\"1M\\\")\\ndf\";\n",
       "                var nbb_formatted_code = \"dt = [\\\"20220101\\\", \\\"20220929\\\"]\\ndf = ohlcv(dt, \\\"BTC/USD\\\", period=\\\"1M\\\")\\ndf\";\n",
       "                var nbb_cells = Jupyter.notebook.get_cells();\n",
       "                for (var i = 0; i < nbb_cells.length; ++i) {\n",
       "                    if (nbb_cells[i].input_prompt_number == nbb_cell_id) {\n",
       "                        if (nbb_cells[i].get_text() == nbb_unformatted_code) {\n",
       "                             nbb_cells[i].set_text(nbb_formatted_code);\n",
       "                        }\n",
       "                        break;\n",
       "                    }\n",
       "                }\n",
       "            }, 500);\n",
       "            "
      ],
      "text/plain": [
       "<IPython.core.display.Javascript object>"
      ]
     },
     "metadata": {},
     "output_type": "display_data"
    }
   ],
   "source": [
    "dt = [\"20220101\", \"20220929\"]\n",
    "df = ohlcv(dt, \"BTC/USD\", period=\"1M\")\n",
    "df"
   ]
  },
  {
   "cell_type": "code",
   "execution_count": 74,
   "id": "791731a3",
   "metadata": {},
   "outputs": [
    {
     "name": "stdout",
     "output_type": "stream",
     "text": [
      "20220101 20220929\n"
     ]
    },
    {
     "data": {
      "application/javascript": [
       "\n",
       "            setTimeout(function() {\n",
       "                var nbb_cell_id = 74;\n",
       "                var nbb_unformatted_code = \"print(date(2022, 1, 1).strftime(\\\"%Y%m%d\\\"), datetime.now().strftime(\\\"%Y%m%d\\\"))\";\n",
       "                var nbb_formatted_code = \"print(date(2022, 1, 1).strftime(\\\"%Y%m%d\\\"), datetime.now().strftime(\\\"%Y%m%d\\\"))\";\n",
       "                var nbb_cells = Jupyter.notebook.get_cells();\n",
       "                for (var i = 0; i < nbb_cells.length; ++i) {\n",
       "                    if (nbb_cells[i].input_prompt_number == nbb_cell_id) {\n",
       "                        if (nbb_cells[i].get_text() == nbb_unformatted_code) {\n",
       "                             nbb_cells[i].set_text(nbb_formatted_code);\n",
       "                        }\n",
       "                        break;\n",
       "                    }\n",
       "                }\n",
       "            }, 500);\n",
       "            "
      ],
      "text/plain": [
       "<IPython.core.display.Javascript object>"
      ]
     },
     "metadata": {},
     "output_type": "display_data"
    }
   ],
   "source": [
    "print(date(2022, 1, 1).strftime(\"%Y%m%d\"), datetime.now().strftime(\"%Y%m%d\"))"
   ]
  },
  {
   "cell_type": "code",
   "execution_count": 122,
   "id": "184a9523",
   "metadata": {},
   "outputs": [
    {
     "data": {
      "text/html": [
       "<div>\n",
       "<style scoped>\n",
       "    .dataframe tbody tr th:only-of-type {\n",
       "        vertical-align: middle;\n",
       "    }\n",
       "\n",
       "    .dataframe tbody tr th {\n",
       "        vertical-align: top;\n",
       "    }\n",
       "\n",
       "    .dataframe thead th {\n",
       "        text-align: right;\n",
       "    }\n",
       "</style>\n",
       "<table border=\"1\" class=\"dataframe\">\n",
       "  <thead>\n",
       "    <tr style=\"text-align: right;\">\n",
       "      <th></th>\n",
       "      <th>Time</th>\n",
       "      <th>Open</th>\n",
       "      <th>High</th>\n",
       "      <th>Low</th>\n",
       "      <th>Close</th>\n",
       "      <th>Volume</th>\n",
       "    </tr>\n",
       "  </thead>\n",
       "  <tbody>\n",
       "    <tr>\n",
       "      <th>0</th>\n",
       "      <td>2020-12-31 19:00:00</td>\n",
       "      <td>28965.0</td>\n",
       "      <td>42000.0</td>\n",
       "      <td>27700.5</td>\n",
       "      <td>34299.0</td>\n",
       "      <td>4.762470e+09</td>\n",
       "    </tr>\n",
       "    <tr>\n",
       "      <th>1</th>\n",
       "      <td>2021-01-30 19:00:00</td>\n",
       "      <td>34299.0</td>\n",
       "      <td>58366.0</td>\n",
       "      <td>32190.0</td>\n",
       "      <td>49631.0</td>\n",
       "      <td>6.479471e+09</td>\n",
       "    </tr>\n",
       "    <tr>\n",
       "      <th>2</th>\n",
       "      <td>2021-03-01 19:00:00</td>\n",
       "      <td>49631.0</td>\n",
       "      <td>61806.0</td>\n",
       "      <td>46281.0</td>\n",
       "      <td>58790.0</td>\n",
       "      <td>8.143631e+09</td>\n",
       "    </tr>\n",
       "    <tr>\n",
       "      <th>3</th>\n",
       "      <td>2021-03-31 19:00:00</td>\n",
       "      <td>58790.0</td>\n",
       "      <td>64887.0</td>\n",
       "      <td>47000.0</td>\n",
       "      <td>57770.0</td>\n",
       "      <td>9.037272e+09</td>\n",
       "    </tr>\n",
       "    <tr>\n",
       "      <th>4</th>\n",
       "      <td>2021-04-30 19:00:00</td>\n",
       "      <td>57770.0</td>\n",
       "      <td>59643.0</td>\n",
       "      <td>29150.0</td>\n",
       "      <td>35660.0</td>\n",
       "      <td>1.673837e+10</td>\n",
       "    </tr>\n",
       "    <tr>\n",
       "      <th>5</th>\n",
       "      <td>2021-05-30 19:00:00</td>\n",
       "      <td>35660.0</td>\n",
       "      <td>41347.0</td>\n",
       "      <td>28819.0</td>\n",
       "      <td>35919.0</td>\n",
       "      <td>1.483687e+10</td>\n",
       "    </tr>\n",
       "    <tr>\n",
       "      <th>6</th>\n",
       "      <td>2021-06-29 19:00:00</td>\n",
       "      <td>35919.0</td>\n",
       "      <td>40937.0</td>\n",
       "      <td>29284.0</td>\n",
       "      <td>40046.0</td>\n",
       "      <td>1.310000e+10</td>\n",
       "    </tr>\n",
       "    <tr>\n",
       "      <th>7</th>\n",
       "      <td>2021-07-29 19:00:00</td>\n",
       "      <td>40046.0</td>\n",
       "      <td>50549.0</td>\n",
       "      <td>37258.0</td>\n",
       "      <td>48937.0</td>\n",
       "      <td>2.020189e+10</td>\n",
       "    </tr>\n",
       "    <tr>\n",
       "      <th>8</th>\n",
       "      <td>2021-08-28 19:00:00</td>\n",
       "      <td>48937.0</td>\n",
       "      <td>52961.0</td>\n",
       "      <td>39710.0</td>\n",
       "      <td>42154.0</td>\n",
       "      <td>1.599203e+10</td>\n",
       "    </tr>\n",
       "    <tr>\n",
       "      <th>9</th>\n",
       "      <td>2021-09-27 19:00:00</td>\n",
       "      <td>42153.0</td>\n",
       "      <td>67082.0</td>\n",
       "      <td>40751.0</td>\n",
       "      <td>58449.0</td>\n",
       "      <td>1.937174e+10</td>\n",
       "    </tr>\n",
       "    <tr>\n",
       "      <th>10</th>\n",
       "      <td>2021-10-27 19:00:00</td>\n",
       "      <td>58449.0</td>\n",
       "      <td>69081.0</td>\n",
       "      <td>53500.0</td>\n",
       "      <td>53747.0</td>\n",
       "      <td>1.962471e+10</td>\n",
       "    </tr>\n",
       "    <tr>\n",
       "      <th>11</th>\n",
       "      <td>2021-11-26 19:00:00</td>\n",
       "      <td>53755.0</td>\n",
       "      <td>59252.0</td>\n",
       "      <td>41800.0</td>\n",
       "      <td>50792.0</td>\n",
       "      <td>1.872578e+10</td>\n",
       "    </tr>\n",
       "    <tr>\n",
       "      <th>12</th>\n",
       "      <td>2021-12-26 19:00:00</td>\n",
       "      <td>50799.0</td>\n",
       "      <td>52129.0</td>\n",
       "      <td>32915.0</td>\n",
       "      <td>36974.0</td>\n",
       "      <td>1.596320e+10</td>\n",
       "    </tr>\n",
       "    <tr>\n",
       "      <th>13</th>\n",
       "      <td>2022-01-25 19:00:00</td>\n",
       "      <td>36971.0</td>\n",
       "      <td>45880.0</td>\n",
       "      <td>34334.0</td>\n",
       "      <td>38343.0</td>\n",
       "      <td>1.542116e+10</td>\n",
       "    </tr>\n",
       "    <tr>\n",
       "      <th>14</th>\n",
       "      <td>2022-02-24 19:00:00</td>\n",
       "      <td>38343.0</td>\n",
       "      <td>45366.0</td>\n",
       "      <td>36997.0</td>\n",
       "      <td>44538.0</td>\n",
       "      <td>1.490356e+10</td>\n",
       "    </tr>\n",
       "    <tr>\n",
       "      <th>15</th>\n",
       "      <td>2022-03-26 19:00:00</td>\n",
       "      <td>44538.0</td>\n",
       "      <td>48224.0</td>\n",
       "      <td>38195.0</td>\n",
       "      <td>40443.0</td>\n",
       "      <td>1.218921e+10</td>\n",
       "    </tr>\n",
       "    <tr>\n",
       "      <th>16</th>\n",
       "      <td>2022-04-25 19:00:00</td>\n",
       "      <td>40443.0</td>\n",
       "      <td>40808.0</td>\n",
       "      <td>25429.0</td>\n",
       "      <td>29515.0</td>\n",
       "      <td>2.302485e+10</td>\n",
       "    </tr>\n",
       "    <tr>\n",
       "      <th>17</th>\n",
       "      <td>2022-05-25 19:00:00</td>\n",
       "      <td>29515.0</td>\n",
       "      <td>32380.0</td>\n",
       "      <td>17580.0</td>\n",
       "      <td>21218.0</td>\n",
       "      <td>2.757413e+10</td>\n",
       "    </tr>\n",
       "    <tr>\n",
       "      <th>18</th>\n",
       "      <td>2022-06-24 19:00:00</td>\n",
       "      <td>21218.0</td>\n",
       "      <td>24286.0</td>\n",
       "      <td>18611.0</td>\n",
       "      <td>22585.0</td>\n",
       "      <td>1.656371e+10</td>\n",
       "    </tr>\n",
       "    <tr>\n",
       "      <th>19</th>\n",
       "      <td>2022-07-24 19:00:00</td>\n",
       "      <td>22585.0</td>\n",
       "      <td>25215.0</td>\n",
       "      <td>20724.0</td>\n",
       "      <td>21521.0</td>\n",
       "      <td>1.577441e+10</td>\n",
       "    </tr>\n",
       "    <tr>\n",
       "      <th>20</th>\n",
       "      <td>2022-08-23 19:00:00</td>\n",
       "      <td>21521.0</td>\n",
       "      <td>22912.0</td>\n",
       "      <td>18142.0</td>\n",
       "      <td>19401.0</td>\n",
       "      <td>1.537660e+10</td>\n",
       "    </tr>\n",
       "    <tr>\n",
       "      <th>21</th>\n",
       "      <td>2022-09-22 19:00:00</td>\n",
       "      <td>19401.0</td>\n",
       "      <td>20387.0</td>\n",
       "      <td>18464.0</td>\n",
       "      <td>19479.0</td>\n",
       "      <td>4.591172e+09</td>\n",
       "    </tr>\n",
       "    <tr>\n",
       "      <th>22</th>\n",
       "      <td>2022-09-28 19:00:00</td>\n",
       "      <td>19415.0</td>\n",
       "      <td>19655.0</td>\n",
       "      <td>18846.0</td>\n",
       "      <td>19479.0</td>\n",
       "      <td>7.141294e+08</td>\n",
       "    </tr>\n",
       "  </tbody>\n",
       "</table>\n",
       "</div>"
      ],
      "text/plain": [
       "                  Time     Open     High      Low    Close        Volume\n",
       "0  2020-12-31 19:00:00  28965.0  42000.0  27700.5  34299.0  4.762470e+09\n",
       "1  2021-01-30 19:00:00  34299.0  58366.0  32190.0  49631.0  6.479471e+09\n",
       "2  2021-03-01 19:00:00  49631.0  61806.0  46281.0  58790.0  8.143631e+09\n",
       "3  2021-03-31 19:00:00  58790.0  64887.0  47000.0  57770.0  9.037272e+09\n",
       "4  2021-04-30 19:00:00  57770.0  59643.0  29150.0  35660.0  1.673837e+10\n",
       "5  2021-05-30 19:00:00  35660.0  41347.0  28819.0  35919.0  1.483687e+10\n",
       "6  2021-06-29 19:00:00  35919.0  40937.0  29284.0  40046.0  1.310000e+10\n",
       "7  2021-07-29 19:00:00  40046.0  50549.0  37258.0  48937.0  2.020189e+10\n",
       "8  2021-08-28 19:00:00  48937.0  52961.0  39710.0  42154.0  1.599203e+10\n",
       "9  2021-09-27 19:00:00  42153.0  67082.0  40751.0  58449.0  1.937174e+10\n",
       "10 2021-10-27 19:00:00  58449.0  69081.0  53500.0  53747.0  1.962471e+10\n",
       "11 2021-11-26 19:00:00  53755.0  59252.0  41800.0  50792.0  1.872578e+10\n",
       "12 2021-12-26 19:00:00  50799.0  52129.0  32915.0  36974.0  1.596320e+10\n",
       "13 2022-01-25 19:00:00  36971.0  45880.0  34334.0  38343.0  1.542116e+10\n",
       "14 2022-02-24 19:00:00  38343.0  45366.0  36997.0  44538.0  1.490356e+10\n",
       "15 2022-03-26 19:00:00  44538.0  48224.0  38195.0  40443.0  1.218921e+10\n",
       "16 2022-04-25 19:00:00  40443.0  40808.0  25429.0  29515.0  2.302485e+10\n",
       "17 2022-05-25 19:00:00  29515.0  32380.0  17580.0  21218.0  2.757413e+10\n",
       "18 2022-06-24 19:00:00  21218.0  24286.0  18611.0  22585.0  1.656371e+10\n",
       "19 2022-07-24 19:00:00  22585.0  25215.0  20724.0  21521.0  1.577441e+10\n",
       "20 2022-08-23 19:00:00  21521.0  22912.0  18142.0  19401.0  1.537660e+10\n",
       "21 2022-09-22 19:00:00  19401.0  20387.0  18464.0  19479.0  4.591172e+09\n",
       "22 2022-09-28 19:00:00  19415.0  19655.0  18846.0  19479.0  7.141294e+08"
      ]
     },
     "execution_count": 122,
     "metadata": {},
     "output_type": "execute_result"
    },
    {
     "data": {
      "application/javascript": [
       "\n",
       "            setTimeout(function() {\n",
       "                var nbb_cell_id = 122;\n",
       "                var nbb_unformatted_code = \"start_date = date(2021, 1, 1).strftime(\\\"%Y%m%d\\\")\\nend_date = datetime.now().strftime(\\\"%Y%m%d\\\")\\ndt = [start_date, end_date]\\ndf = ohlcv(dt, \\\"BTC/USD\\\", \\\"1M\\\")\\ndf\";\n",
       "                var nbb_formatted_code = \"start_date = date(2021, 1, 1).strftime(\\\"%Y%m%d\\\")\\nend_date = datetime.now().strftime(\\\"%Y%m%d\\\")\\ndt = [start_date, end_date]\\ndf = ohlcv(dt, \\\"BTC/USD\\\", \\\"1M\\\")\\ndf\";\n",
       "                var nbb_cells = Jupyter.notebook.get_cells();\n",
       "                for (var i = 0; i < nbb_cells.length; ++i) {\n",
       "                    if (nbb_cells[i].input_prompt_number == nbb_cell_id) {\n",
       "                        if (nbb_cells[i].get_text() == nbb_unformatted_code) {\n",
       "                             nbb_cells[i].set_text(nbb_formatted_code);\n",
       "                        }\n",
       "                        break;\n",
       "                    }\n",
       "                }\n",
       "            }, 500);\n",
       "            "
      ],
      "text/plain": [
       "<IPython.core.display.Javascript object>"
      ]
     },
     "metadata": {},
     "output_type": "display_data"
    }
   ],
   "source": [
    "start_date = date(2021, 1, 1).strftime(\"%Y%m%d\")\n",
    "end_date = datetime.now().strftime(\"%Y%m%d\")\n",
    "dt = [start_date, end_date]\n",
    "df = ohlcv(dt, \"BTC/USD\", \"1M\")\n",
    "df"
   ]
  },
  {
   "cell_type": "code",
   "execution_count": 88,
   "id": "3513a79b",
   "metadata": {},
   "outputs": [
    {
     "data": {
      "text/plain": [
       "169317353.17"
      ]
     },
     "execution_count": 88,
     "metadata": {},
     "output_type": "execute_result"
    },
    {
     "data": {
      "application/javascript": [
       "\n",
       "            setTimeout(function() {\n",
       "                var nbb_cell_id = 88;\n",
       "                var nbb_unformatted_code = \"variance = round(np.var(df[\\\"Close\\\"]), 2)\\nvariance\";\n",
       "                var nbb_formatted_code = \"variance = round(np.var(df[\\\"Close\\\"]), 2)\\nvariance\";\n",
       "                var nbb_cells = Jupyter.notebook.get_cells();\n",
       "                for (var i = 0; i < nbb_cells.length; ++i) {\n",
       "                    if (nbb_cells[i].input_prompt_number == nbb_cell_id) {\n",
       "                        if (nbb_cells[i].get_text() == nbb_unformatted_code) {\n",
       "                             nbb_cells[i].set_text(nbb_formatted_code);\n",
       "                        }\n",
       "                        break;\n",
       "                    }\n",
       "                }\n",
       "            }, 500);\n",
       "            "
      ],
      "text/plain": [
       "<IPython.core.display.Javascript object>"
      ]
     },
     "metadata": {},
     "output_type": "display_data"
    }
   ],
   "source": [
    "variance = round(np.var(df[\"Close\"]), 2)\n",
    "variance"
   ]
  },
  {
   "cell_type": "code",
   "execution_count": 91,
   "id": "1c12c367",
   "metadata": {},
   "outputs": [
    {
     "data": {
      "application/javascript": [
       "\n",
       "            setTimeout(function() {\n",
       "                var nbb_cell_id = 91;\n",
       "                var nbb_unformatted_code = \"df[\\\"RAC\\\"] = df[\\\"Close\\\"].rolling(window=5, center=True).mean()\";\n",
       "                var nbb_formatted_code = \"df[\\\"RAC\\\"] = df[\\\"Close\\\"].rolling(window=5, center=True).mean()\";\n",
       "                var nbb_cells = Jupyter.notebook.get_cells();\n",
       "                for (var i = 0; i < nbb_cells.length; ++i) {\n",
       "                    if (nbb_cells[i].input_prompt_number == nbb_cell_id) {\n",
       "                        if (nbb_cells[i].get_text() == nbb_unformatted_code) {\n",
       "                             nbb_cells[i].set_text(nbb_formatted_code);\n",
       "                        }\n",
       "                        break;\n",
       "                    }\n",
       "                }\n",
       "            }, 500);\n",
       "            "
      ],
      "text/plain": [
       "<IPython.core.display.Javascript object>"
      ]
     },
     "metadata": {},
     "output_type": "display_data"
    }
   ],
   "source": [
    "df[\"RAC\"] = df[\"Close\"].rolling(window=5, center=True).mean()"
   ]
  },
  {
   "cell_type": "code",
   "execution_count": 92,
   "id": "9126a14d",
   "metadata": {},
   "outputs": [
    {
     "data": {
      "text/html": [
       "<div>\n",
       "<style scoped>\n",
       "    .dataframe tbody tr th:only-of-type {\n",
       "        vertical-align: middle;\n",
       "    }\n",
       "\n",
       "    .dataframe tbody tr th {\n",
       "        vertical-align: top;\n",
       "    }\n",
       "\n",
       "    .dataframe thead th {\n",
       "        text-align: right;\n",
       "    }\n",
       "</style>\n",
       "<table border=\"1\" class=\"dataframe\">\n",
       "  <thead>\n",
       "    <tr style=\"text-align: right;\">\n",
       "      <th></th>\n",
       "      <th>Time</th>\n",
       "      <th>Open</th>\n",
       "      <th>High</th>\n",
       "      <th>Low</th>\n",
       "      <th>Close</th>\n",
       "      <th>Volume</th>\n",
       "      <th>RAC</th>\n",
       "    </tr>\n",
       "  </thead>\n",
       "  <tbody>\n",
       "    <tr>\n",
       "      <th>0</th>\n",
       "      <td>2020-12-31 19:00:00</td>\n",
       "      <td>28965.0</td>\n",
       "      <td>42000.0</td>\n",
       "      <td>27700.5</td>\n",
       "      <td>34299.0</td>\n",
       "      <td>4.762470e+09</td>\n",
       "      <td>NaN</td>\n",
       "    </tr>\n",
       "    <tr>\n",
       "      <th>1</th>\n",
       "      <td>2021-01-30 19:00:00</td>\n",
       "      <td>34299.0</td>\n",
       "      <td>58366.0</td>\n",
       "      <td>32190.0</td>\n",
       "      <td>49631.0</td>\n",
       "      <td>6.479471e+09</td>\n",
       "      <td>NaN</td>\n",
       "    </tr>\n",
       "    <tr>\n",
       "      <th>2</th>\n",
       "      <td>2021-03-01 19:00:00</td>\n",
       "      <td>49631.0</td>\n",
       "      <td>61806.0</td>\n",
       "      <td>46281.0</td>\n",
       "      <td>58790.0</td>\n",
       "      <td>8.143631e+09</td>\n",
       "      <td>47230.0</td>\n",
       "    </tr>\n",
       "    <tr>\n",
       "      <th>3</th>\n",
       "      <td>2021-03-31 19:00:00</td>\n",
       "      <td>58790.0</td>\n",
       "      <td>64887.0</td>\n",
       "      <td>47000.0</td>\n",
       "      <td>57770.0</td>\n",
       "      <td>9.037272e+09</td>\n",
       "      <td>47554.0</td>\n",
       "    </tr>\n",
       "    <tr>\n",
       "      <th>4</th>\n",
       "      <td>2021-04-30 19:00:00</td>\n",
       "      <td>57770.0</td>\n",
       "      <td>59643.0</td>\n",
       "      <td>29150.0</td>\n",
       "      <td>35660.0</td>\n",
       "      <td>1.673837e+10</td>\n",
       "      <td>45637.0</td>\n",
       "    </tr>\n",
       "    <tr>\n",
       "      <th>5</th>\n",
       "      <td>2021-05-30 19:00:00</td>\n",
       "      <td>35660.0</td>\n",
       "      <td>41347.0</td>\n",
       "      <td>28819.0</td>\n",
       "      <td>35919.0</td>\n",
       "      <td>1.483687e+10</td>\n",
       "      <td>43666.4</td>\n",
       "    </tr>\n",
       "    <tr>\n",
       "      <th>6</th>\n",
       "      <td>2021-06-29 19:00:00</td>\n",
       "      <td>35919.0</td>\n",
       "      <td>40937.0</td>\n",
       "      <td>29284.0</td>\n",
       "      <td>40046.0</td>\n",
       "      <td>1.310000e+10</td>\n",
       "      <td>40543.2</td>\n",
       "    </tr>\n",
       "    <tr>\n",
       "      <th>7</th>\n",
       "      <td>2021-07-29 19:00:00</td>\n",
       "      <td>40046.0</td>\n",
       "      <td>50549.0</td>\n",
       "      <td>37258.0</td>\n",
       "      <td>48937.0</td>\n",
       "      <td>2.020189e+10</td>\n",
       "      <td>45101.0</td>\n",
       "    </tr>\n",
       "    <tr>\n",
       "      <th>8</th>\n",
       "      <td>2021-08-28 19:00:00</td>\n",
       "      <td>48937.0</td>\n",
       "      <td>52961.0</td>\n",
       "      <td>39710.0</td>\n",
       "      <td>42154.0</td>\n",
       "      <td>1.599203e+10</td>\n",
       "      <td>48666.6</td>\n",
       "    </tr>\n",
       "    <tr>\n",
       "      <th>9</th>\n",
       "      <td>2021-09-27 19:00:00</td>\n",
       "      <td>42153.0</td>\n",
       "      <td>67082.0</td>\n",
       "      <td>40751.0</td>\n",
       "      <td>58449.0</td>\n",
       "      <td>1.937174e+10</td>\n",
       "      <td>50815.8</td>\n",
       "    </tr>\n",
       "    <tr>\n",
       "      <th>10</th>\n",
       "      <td>2021-10-27 19:00:00</td>\n",
       "      <td>58449.0</td>\n",
       "      <td>69081.0</td>\n",
       "      <td>53500.0</td>\n",
       "      <td>53747.0</td>\n",
       "      <td>1.962471e+10</td>\n",
       "      <td>48423.2</td>\n",
       "    </tr>\n",
       "    <tr>\n",
       "      <th>11</th>\n",
       "      <td>2021-11-26 19:00:00</td>\n",
       "      <td>53755.0</td>\n",
       "      <td>59252.0</td>\n",
       "      <td>41800.0</td>\n",
       "      <td>50792.0</td>\n",
       "      <td>1.872578e+10</td>\n",
       "      <td>47661.0</td>\n",
       "    </tr>\n",
       "    <tr>\n",
       "      <th>12</th>\n",
       "      <td>2021-12-26 19:00:00</td>\n",
       "      <td>50799.0</td>\n",
       "      <td>52129.0</td>\n",
       "      <td>32915.0</td>\n",
       "      <td>36974.0</td>\n",
       "      <td>1.596320e+10</td>\n",
       "      <td>44878.8</td>\n",
       "    </tr>\n",
       "    <tr>\n",
       "      <th>13</th>\n",
       "      <td>2022-01-25 19:00:00</td>\n",
       "      <td>36971.0</td>\n",
       "      <td>45880.0</td>\n",
       "      <td>34334.0</td>\n",
       "      <td>38343.0</td>\n",
       "      <td>1.542116e+10</td>\n",
       "      <td>42218.0</td>\n",
       "    </tr>\n",
       "    <tr>\n",
       "      <th>14</th>\n",
       "      <td>2022-02-24 19:00:00</td>\n",
       "      <td>38343.0</td>\n",
       "      <td>45366.0</td>\n",
       "      <td>36997.0</td>\n",
       "      <td>44538.0</td>\n",
       "      <td>1.490356e+10</td>\n",
       "      <td>37962.6</td>\n",
       "    </tr>\n",
       "    <tr>\n",
       "      <th>15</th>\n",
       "      <td>2022-03-26 19:00:00</td>\n",
       "      <td>44538.0</td>\n",
       "      <td>48224.0</td>\n",
       "      <td>38195.0</td>\n",
       "      <td>40443.0</td>\n",
       "      <td>1.218921e+10</td>\n",
       "      <td>34811.4</td>\n",
       "    </tr>\n",
       "    <tr>\n",
       "      <th>16</th>\n",
       "      <td>2022-04-25 19:00:00</td>\n",
       "      <td>40443.0</td>\n",
       "      <td>40808.0</td>\n",
       "      <td>25429.0</td>\n",
       "      <td>29515.0</td>\n",
       "      <td>2.302485e+10</td>\n",
       "      <td>31659.8</td>\n",
       "    </tr>\n",
       "    <tr>\n",
       "      <th>17</th>\n",
       "      <td>2022-05-25 19:00:00</td>\n",
       "      <td>29515.0</td>\n",
       "      <td>32380.0</td>\n",
       "      <td>17580.0</td>\n",
       "      <td>21218.0</td>\n",
       "      <td>2.757413e+10</td>\n",
       "      <td>27056.4</td>\n",
       "    </tr>\n",
       "    <tr>\n",
       "      <th>18</th>\n",
       "      <td>2022-06-24 19:00:00</td>\n",
       "      <td>21218.0</td>\n",
       "      <td>24286.0</td>\n",
       "      <td>18611.0</td>\n",
       "      <td>22585.0</td>\n",
       "      <td>1.656371e+10</td>\n",
       "      <td>22848.0</td>\n",
       "    </tr>\n",
       "    <tr>\n",
       "      <th>19</th>\n",
       "      <td>2022-07-24 19:00:00</td>\n",
       "      <td>22585.0</td>\n",
       "      <td>25215.0</td>\n",
       "      <td>20724.0</td>\n",
       "      <td>21521.0</td>\n",
       "      <td>1.577441e+10</td>\n",
       "      <td>20845.2</td>\n",
       "    </tr>\n",
       "    <tr>\n",
       "      <th>20</th>\n",
       "      <td>2022-08-23 19:00:00</td>\n",
       "      <td>21521.0</td>\n",
       "      <td>22912.0</td>\n",
       "      <td>18142.0</td>\n",
       "      <td>19401.0</td>\n",
       "      <td>1.537660e+10</td>\n",
       "      <td>20501.8</td>\n",
       "    </tr>\n",
       "    <tr>\n",
       "      <th>21</th>\n",
       "      <td>2022-09-22 19:00:00</td>\n",
       "      <td>19401.0</td>\n",
       "      <td>20387.0</td>\n",
       "      <td>18464.0</td>\n",
       "      <td>19501.0</td>\n",
       "      <td>4.584679e+09</td>\n",
       "      <td>NaN</td>\n",
       "    </tr>\n",
       "    <tr>\n",
       "      <th>22</th>\n",
       "      <td>2022-09-28 19:00:00</td>\n",
       "      <td>19415.0</td>\n",
       "      <td>19655.0</td>\n",
       "      <td>18846.0</td>\n",
       "      <td>19501.0</td>\n",
       "      <td>7.076360e+08</td>\n",
       "      <td>NaN</td>\n",
       "    </tr>\n",
       "  </tbody>\n",
       "</table>\n",
       "</div>"
      ],
      "text/plain": [
       "                  Time     Open     High      Low    Close        Volume  \\\n",
       "0  2020-12-31 19:00:00  28965.0  42000.0  27700.5  34299.0  4.762470e+09   \n",
       "1  2021-01-30 19:00:00  34299.0  58366.0  32190.0  49631.0  6.479471e+09   \n",
       "2  2021-03-01 19:00:00  49631.0  61806.0  46281.0  58790.0  8.143631e+09   \n",
       "3  2021-03-31 19:00:00  58790.0  64887.0  47000.0  57770.0  9.037272e+09   \n",
       "4  2021-04-30 19:00:00  57770.0  59643.0  29150.0  35660.0  1.673837e+10   \n",
       "5  2021-05-30 19:00:00  35660.0  41347.0  28819.0  35919.0  1.483687e+10   \n",
       "6  2021-06-29 19:00:00  35919.0  40937.0  29284.0  40046.0  1.310000e+10   \n",
       "7  2021-07-29 19:00:00  40046.0  50549.0  37258.0  48937.0  2.020189e+10   \n",
       "8  2021-08-28 19:00:00  48937.0  52961.0  39710.0  42154.0  1.599203e+10   \n",
       "9  2021-09-27 19:00:00  42153.0  67082.0  40751.0  58449.0  1.937174e+10   \n",
       "10 2021-10-27 19:00:00  58449.0  69081.0  53500.0  53747.0  1.962471e+10   \n",
       "11 2021-11-26 19:00:00  53755.0  59252.0  41800.0  50792.0  1.872578e+10   \n",
       "12 2021-12-26 19:00:00  50799.0  52129.0  32915.0  36974.0  1.596320e+10   \n",
       "13 2022-01-25 19:00:00  36971.0  45880.0  34334.0  38343.0  1.542116e+10   \n",
       "14 2022-02-24 19:00:00  38343.0  45366.0  36997.0  44538.0  1.490356e+10   \n",
       "15 2022-03-26 19:00:00  44538.0  48224.0  38195.0  40443.0  1.218921e+10   \n",
       "16 2022-04-25 19:00:00  40443.0  40808.0  25429.0  29515.0  2.302485e+10   \n",
       "17 2022-05-25 19:00:00  29515.0  32380.0  17580.0  21218.0  2.757413e+10   \n",
       "18 2022-06-24 19:00:00  21218.0  24286.0  18611.0  22585.0  1.656371e+10   \n",
       "19 2022-07-24 19:00:00  22585.0  25215.0  20724.0  21521.0  1.577441e+10   \n",
       "20 2022-08-23 19:00:00  21521.0  22912.0  18142.0  19401.0  1.537660e+10   \n",
       "21 2022-09-22 19:00:00  19401.0  20387.0  18464.0  19501.0  4.584679e+09   \n",
       "22 2022-09-28 19:00:00  19415.0  19655.0  18846.0  19501.0  7.076360e+08   \n",
       "\n",
       "        RAC  \n",
       "0       NaN  \n",
       "1       NaN  \n",
       "2   47230.0  \n",
       "3   47554.0  \n",
       "4   45637.0  \n",
       "5   43666.4  \n",
       "6   40543.2  \n",
       "7   45101.0  \n",
       "8   48666.6  \n",
       "9   50815.8  \n",
       "10  48423.2  \n",
       "11  47661.0  \n",
       "12  44878.8  \n",
       "13  42218.0  \n",
       "14  37962.6  \n",
       "15  34811.4  \n",
       "16  31659.8  \n",
       "17  27056.4  \n",
       "18  22848.0  \n",
       "19  20845.2  \n",
       "20  20501.8  \n",
       "21      NaN  \n",
       "22      NaN  "
      ]
     },
     "execution_count": 92,
     "metadata": {},
     "output_type": "execute_result"
    },
    {
     "data": {
      "application/javascript": [
       "\n",
       "            setTimeout(function() {\n",
       "                var nbb_cell_id = 92;\n",
       "                var nbb_unformatted_code = \"df\";\n",
       "                var nbb_formatted_code = \"df\";\n",
       "                var nbb_cells = Jupyter.notebook.get_cells();\n",
       "                for (var i = 0; i < nbb_cells.length; ++i) {\n",
       "                    if (nbb_cells[i].input_prompt_number == nbb_cell_id) {\n",
       "                        if (nbb_cells[i].get_text() == nbb_unformatted_code) {\n",
       "                             nbb_cells[i].set_text(nbb_formatted_code);\n",
       "                        }\n",
       "                        break;\n",
       "                    }\n",
       "                }\n",
       "            }, 500);\n",
       "            "
      ],
      "text/plain": [
       "<IPython.core.display.Javascript object>"
      ]
     },
     "metadata": {},
     "output_type": "display_data"
    }
   ],
   "source": [
    "df"
   ]
  },
  {
   "cell_type": "code",
   "execution_count": 120,
   "id": "7f11b36b",
   "metadata": {},
   "outputs": [
    {
     "data": {
      "application/vnd.plotly.v1+json": {
       "config": {
        "plotlyServerURL": "https://plot.ly"
       },
       "data": [
        {
         "close": [
          34299,
          49631,
          58790,
          57770,
          35660,
          35919,
          40046,
          48937,
          42154,
          58449,
          53747,
          50792,
          36974,
          38343,
          44538,
          40443,
          29515,
          21218,
          22585,
          21521,
          19401,
          19501,
          19501
         ],
         "high": [
          42000,
          58366,
          61806,
          64887,
          59643,
          41347,
          40937,
          50549,
          52961,
          67082,
          69081,
          59252,
          52129,
          45880,
          45366,
          48224,
          40808,
          32380,
          24286,
          25215,
          22912,
          20387,
          19655
         ],
         "low": [
          27700.5,
          32190,
          46281,
          47000,
          29150,
          28819,
          29284,
          37258,
          39710,
          40751,
          53500,
          41800,
          32915,
          34334,
          36997,
          38195,
          25429,
          17580,
          18611,
          20724,
          18142,
          18464,
          18846
         ],
         "name": "Candlestick",
         "open": [
          28965,
          34299,
          49631,
          58790,
          57770,
          35660,
          35919,
          40046,
          48937,
          42153,
          58449,
          53755,
          50799,
          36971,
          38343,
          44538,
          40443,
          29515,
          21218,
          22585,
          21521,
          19401,
          19415
         ],
         "type": "candlestick",
         "x": [
          "2020-12-31T19:00:00",
          "2021-01-30T19:00:00",
          "2021-03-01T19:00:00",
          "2021-03-31T19:00:00",
          "2021-04-30T19:00:00",
          "2021-05-30T19:00:00",
          "2021-06-29T19:00:00",
          "2021-07-29T19:00:00",
          "2021-08-28T19:00:00",
          "2021-09-27T19:00:00",
          "2021-10-27T19:00:00",
          "2021-11-26T19:00:00",
          "2021-12-26T19:00:00",
          "2022-01-25T19:00:00",
          "2022-02-24T19:00:00",
          "2022-03-26T19:00:00",
          "2022-04-25T19:00:00",
          "2022-05-25T19:00:00",
          "2022-06-24T19:00:00",
          "2022-07-24T19:00:00",
          "2022-08-23T19:00:00",
          "2022-09-22T19:00:00",
          "2022-09-28T19:00:00"
         ],
         "xaxis": "x",
         "yaxis": "y"
        },
        {
         "line": {
          "color": "black",
          "dash": "dot",
          "width": 2
         },
         "name": "RAC",
         "type": "scatter",
         "x": [
          "2020-12-31T19:00:00",
          "2021-01-30T19:00:00",
          "2021-03-01T19:00:00",
          "2021-03-31T19:00:00",
          "2021-04-30T19:00:00",
          "2021-05-30T19:00:00",
          "2021-06-29T19:00:00",
          "2021-07-29T19:00:00",
          "2021-08-28T19:00:00",
          "2021-09-27T19:00:00",
          "2021-10-27T19:00:00",
          "2021-11-26T19:00:00",
          "2021-12-26T19:00:00",
          "2022-01-25T19:00:00",
          "2022-02-24T19:00:00",
          "2022-03-26T19:00:00",
          "2022-04-25T19:00:00",
          "2022-05-25T19:00:00",
          "2022-06-24T19:00:00",
          "2022-07-24T19:00:00",
          "2022-08-23T19:00:00",
          "2022-09-22T19:00:00",
          "2022-09-28T19:00:00"
         ],
         "xaxis": "x",
         "y": [
          null,
          null,
          47230,
          47554,
          45637,
          43666.4,
          40543.2,
          45101,
          48666.6,
          50815.8,
          48423.2,
          47661,
          44878.8,
          42218,
          37962.6,
          34811.4,
          31659.8,
          27056.4,
          22848,
          20845.2,
          20501.8,
          null,
          null
         ],
         "yaxis": "y"
        },
        {
         "marker": {
          "color": [
           4762469688.46145,
           6479471054.09215,
           8143631387.5019,
           9037271562.1666,
           16738370073.3273,
           14836874163.7356,
           13100002116.6288,
           20201885964.9777,
           15992026285.8262,
           19371738967.9276,
           19624709176.0361,
           18725777683.3958,
           15963195297.6156,
           15421157222.6624,
           14903557289.4919,
           12189214372.832,
           23024852562.68,
           27574125425.7757,
           16563706226.3808,
           15774407230.2906,
           15376599492.8879,
           4584679072.2745,
           707635969.7709
          ],
          "colorscale": [
           [
            0,
            "#fee838"
           ],
           [
            0.1111111111111111,
            "#e1cc55"
           ],
           [
            0.2222222222222222,
            "#c3b369"
           ],
           [
            0.3333333333333333,
            "#a59c74"
           ],
           [
            0.4444444444444444,
            "#8a8678"
           ],
           [
            0.5555555555555556,
            "#707173"
           ],
           [
            0.6666666666666666,
            "#575d6d"
           ],
           [
            0.7777777777777778,
            "#3b496c"
           ],
           [
            0.8888888888888888,
            "#123570"
           ],
           [
            1,
            "#00224e"
           ]
          ]
         },
         "name": "Volumen",
         "type": "bar",
         "x": [
          "2020-12-31T19:00:00",
          "2021-01-30T19:00:00",
          "2021-03-01T19:00:00",
          "2021-03-31T19:00:00",
          "2021-04-30T19:00:00",
          "2021-05-30T19:00:00",
          "2021-06-29T19:00:00",
          "2021-07-29T19:00:00",
          "2021-08-28T19:00:00",
          "2021-09-27T19:00:00",
          "2021-10-27T19:00:00",
          "2021-11-26T19:00:00",
          "2021-12-26T19:00:00",
          "2022-01-25T19:00:00",
          "2022-02-24T19:00:00",
          "2022-03-26T19:00:00",
          "2022-04-25T19:00:00",
          "2022-05-25T19:00:00",
          "2022-06-24T19:00:00",
          "2022-07-24T19:00:00",
          "2022-08-23T19:00:00",
          "2022-09-22T19:00:00",
          "2022-09-28T19:00:00"
         ],
         "xaxis": "x2",
         "y": [
          4762469688.46145,
          6479471054.09215,
          8143631387.5019,
          9037271562.1666,
          16738370073.3273,
          14836874163.7356,
          13100002116.6288,
          20201885964.9777,
          15992026285.8262,
          19371738967.9276,
          19624709176.0361,
          18725777683.3958,
          15963195297.6156,
          15421157222.6624,
          14903557289.4919,
          12189214372.832,
          23024852562.68,
          27574125425.7757,
          16563706226.3808,
          15774407230.2906,
          15376599492.8879,
          4584679072.2745,
          707635969.7709
         ],
         "yaxis": "y2"
        }
       ],
       "layout": {
        "template": {
         "data": {
          "bar": [
           {
            "error_x": {
             "color": "#2a3f5f"
            },
            "error_y": {
             "color": "#2a3f5f"
            },
            "marker": {
             "line": {
              "color": "#E5ECF6",
              "width": 0.5
             },
             "pattern": {
              "fillmode": "overlay",
              "size": 10,
              "solidity": 0.2
             }
            },
            "type": "bar"
           }
          ],
          "barpolar": [
           {
            "marker": {
             "line": {
              "color": "#E5ECF6",
              "width": 0.5
             },
             "pattern": {
              "fillmode": "overlay",
              "size": 10,
              "solidity": 0.2
             }
            },
            "type": "barpolar"
           }
          ],
          "carpet": [
           {
            "aaxis": {
             "endlinecolor": "#2a3f5f",
             "gridcolor": "white",
             "linecolor": "white",
             "minorgridcolor": "white",
             "startlinecolor": "#2a3f5f"
            },
            "baxis": {
             "endlinecolor": "#2a3f5f",
             "gridcolor": "white",
             "linecolor": "white",
             "minorgridcolor": "white",
             "startlinecolor": "#2a3f5f"
            },
            "type": "carpet"
           }
          ],
          "choropleth": [
           {
            "colorbar": {
             "outlinewidth": 0,
             "ticks": ""
            },
            "type": "choropleth"
           }
          ],
          "contour": [
           {
            "colorbar": {
             "outlinewidth": 0,
             "ticks": ""
            },
            "colorscale": [
             [
              0,
              "#0d0887"
             ],
             [
              0.1111111111111111,
              "#46039f"
             ],
             [
              0.2222222222222222,
              "#7201a8"
             ],
             [
              0.3333333333333333,
              "#9c179e"
             ],
             [
              0.4444444444444444,
              "#bd3786"
             ],
             [
              0.5555555555555556,
              "#d8576b"
             ],
             [
              0.6666666666666666,
              "#ed7953"
             ],
             [
              0.7777777777777778,
              "#fb9f3a"
             ],
             [
              0.8888888888888888,
              "#fdca26"
             ],
             [
              1,
              "#f0f921"
             ]
            ],
            "type": "contour"
           }
          ],
          "contourcarpet": [
           {
            "colorbar": {
             "outlinewidth": 0,
             "ticks": ""
            },
            "type": "contourcarpet"
           }
          ],
          "heatmap": [
           {
            "colorbar": {
             "outlinewidth": 0,
             "ticks": ""
            },
            "colorscale": [
             [
              0,
              "#0d0887"
             ],
             [
              0.1111111111111111,
              "#46039f"
             ],
             [
              0.2222222222222222,
              "#7201a8"
             ],
             [
              0.3333333333333333,
              "#9c179e"
             ],
             [
              0.4444444444444444,
              "#bd3786"
             ],
             [
              0.5555555555555556,
              "#d8576b"
             ],
             [
              0.6666666666666666,
              "#ed7953"
             ],
             [
              0.7777777777777778,
              "#fb9f3a"
             ],
             [
              0.8888888888888888,
              "#fdca26"
             ],
             [
              1,
              "#f0f921"
             ]
            ],
            "type": "heatmap"
           }
          ],
          "heatmapgl": [
           {
            "colorbar": {
             "outlinewidth": 0,
             "ticks": ""
            },
            "colorscale": [
             [
              0,
              "#0d0887"
             ],
             [
              0.1111111111111111,
              "#46039f"
             ],
             [
              0.2222222222222222,
              "#7201a8"
             ],
             [
              0.3333333333333333,
              "#9c179e"
             ],
             [
              0.4444444444444444,
              "#bd3786"
             ],
             [
              0.5555555555555556,
              "#d8576b"
             ],
             [
              0.6666666666666666,
              "#ed7953"
             ],
             [
              0.7777777777777778,
              "#fb9f3a"
             ],
             [
              0.8888888888888888,
              "#fdca26"
             ],
             [
              1,
              "#f0f921"
             ]
            ],
            "type": "heatmapgl"
           }
          ],
          "histogram": [
           {
            "marker": {
             "pattern": {
              "fillmode": "overlay",
              "size": 10,
              "solidity": 0.2
             }
            },
            "type": "histogram"
           }
          ],
          "histogram2d": [
           {
            "colorbar": {
             "outlinewidth": 0,
             "ticks": ""
            },
            "colorscale": [
             [
              0,
              "#0d0887"
             ],
             [
              0.1111111111111111,
              "#46039f"
             ],
             [
              0.2222222222222222,
              "#7201a8"
             ],
             [
              0.3333333333333333,
              "#9c179e"
             ],
             [
              0.4444444444444444,
              "#bd3786"
             ],
             [
              0.5555555555555556,
              "#d8576b"
             ],
             [
              0.6666666666666666,
              "#ed7953"
             ],
             [
              0.7777777777777778,
              "#fb9f3a"
             ],
             [
              0.8888888888888888,
              "#fdca26"
             ],
             [
              1,
              "#f0f921"
             ]
            ],
            "type": "histogram2d"
           }
          ],
          "histogram2dcontour": [
           {
            "colorbar": {
             "outlinewidth": 0,
             "ticks": ""
            },
            "colorscale": [
             [
              0,
              "#0d0887"
             ],
             [
              0.1111111111111111,
              "#46039f"
             ],
             [
              0.2222222222222222,
              "#7201a8"
             ],
             [
              0.3333333333333333,
              "#9c179e"
             ],
             [
              0.4444444444444444,
              "#bd3786"
             ],
             [
              0.5555555555555556,
              "#d8576b"
             ],
             [
              0.6666666666666666,
              "#ed7953"
             ],
             [
              0.7777777777777778,
              "#fb9f3a"
             ],
             [
              0.8888888888888888,
              "#fdca26"
             ],
             [
              1,
              "#f0f921"
             ]
            ],
            "type": "histogram2dcontour"
           }
          ],
          "mesh3d": [
           {
            "colorbar": {
             "outlinewidth": 0,
             "ticks": ""
            },
            "type": "mesh3d"
           }
          ],
          "parcoords": [
           {
            "line": {
             "colorbar": {
              "outlinewidth": 0,
              "ticks": ""
             }
            },
            "type": "parcoords"
           }
          ],
          "pie": [
           {
            "automargin": true,
            "type": "pie"
           }
          ],
          "scatter": [
           {
            "fillpattern": {
             "fillmode": "overlay",
             "size": 10,
             "solidity": 0.2
            },
            "type": "scatter"
           }
          ],
          "scatter3d": [
           {
            "line": {
             "colorbar": {
              "outlinewidth": 0,
              "ticks": ""
             }
            },
            "marker": {
             "colorbar": {
              "outlinewidth": 0,
              "ticks": ""
             }
            },
            "type": "scatter3d"
           }
          ],
          "scattercarpet": [
           {
            "marker": {
             "colorbar": {
              "outlinewidth": 0,
              "ticks": ""
             }
            },
            "type": "scattercarpet"
           }
          ],
          "scattergeo": [
           {
            "marker": {
             "colorbar": {
              "outlinewidth": 0,
              "ticks": ""
             }
            },
            "type": "scattergeo"
           }
          ],
          "scattergl": [
           {
            "marker": {
             "colorbar": {
              "outlinewidth": 0,
              "ticks": ""
             }
            },
            "type": "scattergl"
           }
          ],
          "scattermapbox": [
           {
            "marker": {
             "colorbar": {
              "outlinewidth": 0,
              "ticks": ""
             }
            },
            "type": "scattermapbox"
           }
          ],
          "scatterpolar": [
           {
            "marker": {
             "colorbar": {
              "outlinewidth": 0,
              "ticks": ""
             }
            },
            "type": "scatterpolar"
           }
          ],
          "scatterpolargl": [
           {
            "marker": {
             "colorbar": {
              "outlinewidth": 0,
              "ticks": ""
             }
            },
            "type": "scatterpolargl"
           }
          ],
          "scatterternary": [
           {
            "marker": {
             "colorbar": {
              "outlinewidth": 0,
              "ticks": ""
             }
            },
            "type": "scatterternary"
           }
          ],
          "surface": [
           {
            "colorbar": {
             "outlinewidth": 0,
             "ticks": ""
            },
            "colorscale": [
             [
              0,
              "#0d0887"
             ],
             [
              0.1111111111111111,
              "#46039f"
             ],
             [
              0.2222222222222222,
              "#7201a8"
             ],
             [
              0.3333333333333333,
              "#9c179e"
             ],
             [
              0.4444444444444444,
              "#bd3786"
             ],
             [
              0.5555555555555556,
              "#d8576b"
             ],
             [
              0.6666666666666666,
              "#ed7953"
             ],
             [
              0.7777777777777778,
              "#fb9f3a"
             ],
             [
              0.8888888888888888,
              "#fdca26"
             ],
             [
              1,
              "#f0f921"
             ]
            ],
            "type": "surface"
           }
          ],
          "table": [
           {
            "cells": {
             "fill": {
              "color": "#EBF0F8"
             },
             "line": {
              "color": "white"
             }
            },
            "header": {
             "fill": {
              "color": "#C8D4E3"
             },
             "line": {
              "color": "white"
             }
            },
            "type": "table"
           }
          ]
         },
         "layout": {
          "annotationdefaults": {
           "arrowcolor": "#2a3f5f",
           "arrowhead": 0,
           "arrowwidth": 1
          },
          "autotypenumbers": "strict",
          "coloraxis": {
           "colorbar": {
            "outlinewidth": 0,
            "ticks": ""
           }
          },
          "colorscale": {
           "diverging": [
            [
             0,
             "#8e0152"
            ],
            [
             0.1,
             "#c51b7d"
            ],
            [
             0.2,
             "#de77ae"
            ],
            [
             0.3,
             "#f1b6da"
            ],
            [
             0.4,
             "#fde0ef"
            ],
            [
             0.5,
             "#f7f7f7"
            ],
            [
             0.6,
             "#e6f5d0"
            ],
            [
             0.7,
             "#b8e186"
            ],
            [
             0.8,
             "#7fbc41"
            ],
            [
             0.9,
             "#4d9221"
            ],
            [
             1,
             "#276419"
            ]
           ],
           "sequential": [
            [
             0,
             "#0d0887"
            ],
            [
             0.1111111111111111,
             "#46039f"
            ],
            [
             0.2222222222222222,
             "#7201a8"
            ],
            [
             0.3333333333333333,
             "#9c179e"
            ],
            [
             0.4444444444444444,
             "#bd3786"
            ],
            [
             0.5555555555555556,
             "#d8576b"
            ],
            [
             0.6666666666666666,
             "#ed7953"
            ],
            [
             0.7777777777777778,
             "#fb9f3a"
            ],
            [
             0.8888888888888888,
             "#fdca26"
            ],
            [
             1,
             "#f0f921"
            ]
           ],
           "sequentialminus": [
            [
             0,
             "#0d0887"
            ],
            [
             0.1111111111111111,
             "#46039f"
            ],
            [
             0.2222222222222222,
             "#7201a8"
            ],
            [
             0.3333333333333333,
             "#9c179e"
            ],
            [
             0.4444444444444444,
             "#bd3786"
            ],
            [
             0.5555555555555556,
             "#d8576b"
            ],
            [
             0.6666666666666666,
             "#ed7953"
            ],
            [
             0.7777777777777778,
             "#fb9f3a"
            ],
            [
             0.8888888888888888,
             "#fdca26"
            ],
            [
             1,
             "#f0f921"
            ]
           ]
          },
          "colorway": [
           "#636efa",
           "#EF553B",
           "#00cc96",
           "#ab63fa",
           "#FFA15A",
           "#19d3f3",
           "#FF6692",
           "#B6E880",
           "#FF97FF",
           "#FECB52"
          ],
          "font": {
           "color": "#2a3f5f"
          },
          "geo": {
           "bgcolor": "white",
           "lakecolor": "white",
           "landcolor": "#E5ECF6",
           "showlakes": true,
           "showland": true,
           "subunitcolor": "white"
          },
          "hoverlabel": {
           "align": "left"
          },
          "hovermode": "closest",
          "mapbox": {
           "style": "light"
          },
          "paper_bgcolor": "white",
          "plot_bgcolor": "#E5ECF6",
          "polar": {
           "angularaxis": {
            "gridcolor": "white",
            "linecolor": "white",
            "ticks": ""
           },
           "bgcolor": "#E5ECF6",
           "radialaxis": {
            "gridcolor": "white",
            "linecolor": "white",
            "ticks": ""
           }
          },
          "scene": {
           "xaxis": {
            "backgroundcolor": "#E5ECF6",
            "gridcolor": "white",
            "gridwidth": 2,
            "linecolor": "white",
            "showbackground": true,
            "ticks": "",
            "zerolinecolor": "white"
           },
           "yaxis": {
            "backgroundcolor": "#E5ECF6",
            "gridcolor": "white",
            "gridwidth": 2,
            "linecolor": "white",
            "showbackground": true,
            "ticks": "",
            "zerolinecolor": "white"
           },
           "zaxis": {
            "backgroundcolor": "#E5ECF6",
            "gridcolor": "white",
            "gridwidth": 2,
            "linecolor": "white",
            "showbackground": true,
            "ticks": "",
            "zerolinecolor": "white"
           }
          },
          "shapedefaults": {
           "line": {
            "color": "#2a3f5f"
           }
          },
          "ternary": {
           "aaxis": {
            "gridcolor": "white",
            "linecolor": "white",
            "ticks": ""
           },
           "baxis": {
            "gridcolor": "white",
            "linecolor": "white",
            "ticks": ""
           },
           "bgcolor": "#E5ECF6",
           "caxis": {
            "gridcolor": "white",
            "linecolor": "white",
            "ticks": ""
           }
          },
          "title": {
           "x": 0.05
          },
          "xaxis": {
           "automargin": true,
           "gridcolor": "white",
           "linecolor": "white",
           "ticks": "",
           "title": {
            "standoff": 15
           },
           "zerolinecolor": "white",
           "zerolinewidth": 2
          },
          "yaxis": {
           "automargin": true,
           "gridcolor": "white",
           "linecolor": "white",
           "ticks": "",
           "title": {
            "standoff": 15
           },
           "zerolinecolor": "white",
           "zerolinewidth": 2
          }
         }
        },
        "xaxis": {
         "anchor": "y",
         "domain": [
          0,
          1
         ],
         "matches": "x2",
         "rangeslider": {
          "visible": false
         },
         "showticklabels": false
        },
        "xaxis2": {
         "anchor": "y2",
         "domain": [
          0,
          1
         ],
         "title": {
          "text": "Time"
         }
        },
        "yaxis": {
         "anchor": "x",
         "domain": [
          0.24,
          1
         ],
         "title": {
          "text": "Price"
         }
        },
        "yaxis2": {
         "anchor": "x2",
         "domain": [
          0,
          0.19
         ],
         "title": {
          "text": "Volume"
         }
        }
       }
      },
      "text/html": [
       "<div>                            <div id=\"73c0cafc-c8f1-466a-81a6-0b33442d3b60\" class=\"plotly-graph-div\" style=\"height:525px; width:100%;\"></div>            <script type=\"text/javascript\">                require([\"plotly\"], function(Plotly) {                    window.PLOTLYENV=window.PLOTLYENV || {};                                    if (document.getElementById(\"73c0cafc-c8f1-466a-81a6-0b33442d3b60\")) {                    Plotly.newPlot(                        \"73c0cafc-c8f1-466a-81a6-0b33442d3b60\",                        [{\"close\":[34299.0,49631.0,58790.0,57770.0,35660.0,35919.0,40046.0,48937.0,42154.0,58449.0,53747.0,50792.0,36974.0,38343.0,44538.0,40443.0,29515.0,21218.0,22585.0,21521.0,19401.0,19501.0,19501.0],\"high\":[42000.0,58366.0,61806.0,64887.0,59643.0,41347.0,40937.0,50549.0,52961.0,67082.0,69081.0,59252.0,52129.0,45880.0,45366.0,48224.0,40808.0,32380.0,24286.0,25215.0,22912.0,20387.0,19655.0],\"low\":[27700.5,32190.0,46281.0,47000.0,29150.0,28819.0,29284.0,37258.0,39710.0,40751.0,53500.0,41800.0,32915.0,34334.0,36997.0,38195.0,25429.0,17580.0,18611.0,20724.0,18142.0,18464.0,18846.0],\"name\":\"Candlestick\",\"open\":[28965.0,34299.0,49631.0,58790.0,57770.0,35660.0,35919.0,40046.0,48937.0,42153.0,58449.0,53755.0,50799.0,36971.0,38343.0,44538.0,40443.0,29515.0,21218.0,22585.0,21521.0,19401.0,19415.0],\"x\":[\"2020-12-31T19:00:00\",\"2021-01-30T19:00:00\",\"2021-03-01T19:00:00\",\"2021-03-31T19:00:00\",\"2021-04-30T19:00:00\",\"2021-05-30T19:00:00\",\"2021-06-29T19:00:00\",\"2021-07-29T19:00:00\",\"2021-08-28T19:00:00\",\"2021-09-27T19:00:00\",\"2021-10-27T19:00:00\",\"2021-11-26T19:00:00\",\"2021-12-26T19:00:00\",\"2022-01-25T19:00:00\",\"2022-02-24T19:00:00\",\"2022-03-26T19:00:00\",\"2022-04-25T19:00:00\",\"2022-05-25T19:00:00\",\"2022-06-24T19:00:00\",\"2022-07-24T19:00:00\",\"2022-08-23T19:00:00\",\"2022-09-22T19:00:00\",\"2022-09-28T19:00:00\"],\"type\":\"candlestick\",\"xaxis\":\"x\",\"yaxis\":\"y\"},{\"line\":{\"color\":\"black\",\"dash\":\"dot\",\"width\":2},\"name\":\"RAC\",\"x\":[\"2020-12-31T19:00:00\",\"2021-01-30T19:00:00\",\"2021-03-01T19:00:00\",\"2021-03-31T19:00:00\",\"2021-04-30T19:00:00\",\"2021-05-30T19:00:00\",\"2021-06-29T19:00:00\",\"2021-07-29T19:00:00\",\"2021-08-28T19:00:00\",\"2021-09-27T19:00:00\",\"2021-10-27T19:00:00\",\"2021-11-26T19:00:00\",\"2021-12-26T19:00:00\",\"2022-01-25T19:00:00\",\"2022-02-24T19:00:00\",\"2022-03-26T19:00:00\",\"2022-04-25T19:00:00\",\"2022-05-25T19:00:00\",\"2022-06-24T19:00:00\",\"2022-07-24T19:00:00\",\"2022-08-23T19:00:00\",\"2022-09-22T19:00:00\",\"2022-09-28T19:00:00\"],\"y\":[null,null,47230.0,47554.0,45637.0,43666.4,40543.2,45101.0,48666.6,50815.8,48423.2,47661.0,44878.8,42218.0,37962.6,34811.4,31659.8,27056.4,22848.0,20845.2,20501.8,null,null],\"type\":\"scatter\",\"xaxis\":\"x\",\"yaxis\":\"y\"},{\"marker\":{\"color\":[4762469688.46145,6479471054.09215,8143631387.5019,9037271562.1666,16738370073.3273,14836874163.7356,13100002116.6288,20201885964.9777,15992026285.8262,19371738967.9276,19624709176.0361,18725777683.3958,15963195297.6156,15421157222.6624,14903557289.4919,12189214372.832,23024852562.68,27574125425.7757,16563706226.3808,15774407230.2906,15376599492.8879,4584679072.2745,707635969.7709],\"colorscale\":[[0.0,\"#fee838\"],[0.1111111111111111,\"#e1cc55\"],[0.2222222222222222,\"#c3b369\"],[0.3333333333333333,\"#a59c74\"],[0.4444444444444444,\"#8a8678\"],[0.5555555555555556,\"#707173\"],[0.6666666666666666,\"#575d6d\"],[0.7777777777777778,\"#3b496c\"],[0.8888888888888888,\"#123570\"],[1.0,\"#00224e\"]]},\"name\":\"Volumen\",\"x\":[\"2020-12-31T19:00:00\",\"2021-01-30T19:00:00\",\"2021-03-01T19:00:00\",\"2021-03-31T19:00:00\",\"2021-04-30T19:00:00\",\"2021-05-30T19:00:00\",\"2021-06-29T19:00:00\",\"2021-07-29T19:00:00\",\"2021-08-28T19:00:00\",\"2021-09-27T19:00:00\",\"2021-10-27T19:00:00\",\"2021-11-26T19:00:00\",\"2021-12-26T19:00:00\",\"2022-01-25T19:00:00\",\"2022-02-24T19:00:00\",\"2022-03-26T19:00:00\",\"2022-04-25T19:00:00\",\"2022-05-25T19:00:00\",\"2022-06-24T19:00:00\",\"2022-07-24T19:00:00\",\"2022-08-23T19:00:00\",\"2022-09-22T19:00:00\",\"2022-09-28T19:00:00\"],\"y\":[4762469688.46145,6479471054.09215,8143631387.5019,9037271562.1666,16738370073.3273,14836874163.7356,13100002116.6288,20201885964.9777,15992026285.8262,19371738967.9276,19624709176.0361,18725777683.3958,15963195297.6156,15421157222.6624,14903557289.4919,12189214372.832,23024852562.68,27574125425.7757,16563706226.3808,15774407230.2906,15376599492.8879,4584679072.2745,707635969.7709],\"type\":\"bar\",\"xaxis\":\"x2\",\"yaxis\":\"y2\"}],                        {\"template\":{\"data\":{\"histogram2dcontour\":[{\"type\":\"histogram2dcontour\",\"colorbar\":{\"outlinewidth\":0,\"ticks\":\"\"},\"colorscale\":[[0.0,\"#0d0887\"],[0.1111111111111111,\"#46039f\"],[0.2222222222222222,\"#7201a8\"],[0.3333333333333333,\"#9c179e\"],[0.4444444444444444,\"#bd3786\"],[0.5555555555555556,\"#d8576b\"],[0.6666666666666666,\"#ed7953\"],[0.7777777777777778,\"#fb9f3a\"],[0.8888888888888888,\"#fdca26\"],[1.0,\"#f0f921\"]]}],\"choropleth\":[{\"type\":\"choropleth\",\"colorbar\":{\"outlinewidth\":0,\"ticks\":\"\"}}],\"histogram2d\":[{\"type\":\"histogram2d\",\"colorbar\":{\"outlinewidth\":0,\"ticks\":\"\"},\"colorscale\":[[0.0,\"#0d0887\"],[0.1111111111111111,\"#46039f\"],[0.2222222222222222,\"#7201a8\"],[0.3333333333333333,\"#9c179e\"],[0.4444444444444444,\"#bd3786\"],[0.5555555555555556,\"#d8576b\"],[0.6666666666666666,\"#ed7953\"],[0.7777777777777778,\"#fb9f3a\"],[0.8888888888888888,\"#fdca26\"],[1.0,\"#f0f921\"]]}],\"heatmap\":[{\"type\":\"heatmap\",\"colorbar\":{\"outlinewidth\":0,\"ticks\":\"\"},\"colorscale\":[[0.0,\"#0d0887\"],[0.1111111111111111,\"#46039f\"],[0.2222222222222222,\"#7201a8\"],[0.3333333333333333,\"#9c179e\"],[0.4444444444444444,\"#bd3786\"],[0.5555555555555556,\"#d8576b\"],[0.6666666666666666,\"#ed7953\"],[0.7777777777777778,\"#fb9f3a\"],[0.8888888888888888,\"#fdca26\"],[1.0,\"#f0f921\"]]}],\"heatmapgl\":[{\"type\":\"heatmapgl\",\"colorbar\":{\"outlinewidth\":0,\"ticks\":\"\"},\"colorscale\":[[0.0,\"#0d0887\"],[0.1111111111111111,\"#46039f\"],[0.2222222222222222,\"#7201a8\"],[0.3333333333333333,\"#9c179e\"],[0.4444444444444444,\"#bd3786\"],[0.5555555555555556,\"#d8576b\"],[0.6666666666666666,\"#ed7953\"],[0.7777777777777778,\"#fb9f3a\"],[0.8888888888888888,\"#fdca26\"],[1.0,\"#f0f921\"]]}],\"contourcarpet\":[{\"type\":\"contourcarpet\",\"colorbar\":{\"outlinewidth\":0,\"ticks\":\"\"}}],\"contour\":[{\"type\":\"contour\",\"colorbar\":{\"outlinewidth\":0,\"ticks\":\"\"},\"colorscale\":[[0.0,\"#0d0887\"],[0.1111111111111111,\"#46039f\"],[0.2222222222222222,\"#7201a8\"],[0.3333333333333333,\"#9c179e\"],[0.4444444444444444,\"#bd3786\"],[0.5555555555555556,\"#d8576b\"],[0.6666666666666666,\"#ed7953\"],[0.7777777777777778,\"#fb9f3a\"],[0.8888888888888888,\"#fdca26\"],[1.0,\"#f0f921\"]]}],\"surface\":[{\"type\":\"surface\",\"colorbar\":{\"outlinewidth\":0,\"ticks\":\"\"},\"colorscale\":[[0.0,\"#0d0887\"],[0.1111111111111111,\"#46039f\"],[0.2222222222222222,\"#7201a8\"],[0.3333333333333333,\"#9c179e\"],[0.4444444444444444,\"#bd3786\"],[0.5555555555555556,\"#d8576b\"],[0.6666666666666666,\"#ed7953\"],[0.7777777777777778,\"#fb9f3a\"],[0.8888888888888888,\"#fdca26\"],[1.0,\"#f0f921\"]]}],\"mesh3d\":[{\"type\":\"mesh3d\",\"colorbar\":{\"outlinewidth\":0,\"ticks\":\"\"}}],\"scatter\":[{\"fillpattern\":{\"fillmode\":\"overlay\",\"size\":10,\"solidity\":0.2},\"type\":\"scatter\"}],\"parcoords\":[{\"type\":\"parcoords\",\"line\":{\"colorbar\":{\"outlinewidth\":0,\"ticks\":\"\"}}}],\"scatterpolargl\":[{\"type\":\"scatterpolargl\",\"marker\":{\"colorbar\":{\"outlinewidth\":0,\"ticks\":\"\"}}}],\"bar\":[{\"error_x\":{\"color\":\"#2a3f5f\"},\"error_y\":{\"color\":\"#2a3f5f\"},\"marker\":{\"line\":{\"color\":\"#E5ECF6\",\"width\":0.5},\"pattern\":{\"fillmode\":\"overlay\",\"size\":10,\"solidity\":0.2}},\"type\":\"bar\"}],\"scattergeo\":[{\"type\":\"scattergeo\",\"marker\":{\"colorbar\":{\"outlinewidth\":0,\"ticks\":\"\"}}}],\"scatterpolar\":[{\"type\":\"scatterpolar\",\"marker\":{\"colorbar\":{\"outlinewidth\":0,\"ticks\":\"\"}}}],\"histogram\":[{\"marker\":{\"pattern\":{\"fillmode\":\"overlay\",\"size\":10,\"solidity\":0.2}},\"type\":\"histogram\"}],\"scattergl\":[{\"type\":\"scattergl\",\"marker\":{\"colorbar\":{\"outlinewidth\":0,\"ticks\":\"\"}}}],\"scatter3d\":[{\"type\":\"scatter3d\",\"line\":{\"colorbar\":{\"outlinewidth\":0,\"ticks\":\"\"}},\"marker\":{\"colorbar\":{\"outlinewidth\":0,\"ticks\":\"\"}}}],\"scattermapbox\":[{\"type\":\"scattermapbox\",\"marker\":{\"colorbar\":{\"outlinewidth\":0,\"ticks\":\"\"}}}],\"scatterternary\":[{\"type\":\"scatterternary\",\"marker\":{\"colorbar\":{\"outlinewidth\":0,\"ticks\":\"\"}}}],\"scattercarpet\":[{\"type\":\"scattercarpet\",\"marker\":{\"colorbar\":{\"outlinewidth\":0,\"ticks\":\"\"}}}],\"carpet\":[{\"aaxis\":{\"endlinecolor\":\"#2a3f5f\",\"gridcolor\":\"white\",\"linecolor\":\"white\",\"minorgridcolor\":\"white\",\"startlinecolor\":\"#2a3f5f\"},\"baxis\":{\"endlinecolor\":\"#2a3f5f\",\"gridcolor\":\"white\",\"linecolor\":\"white\",\"minorgridcolor\":\"white\",\"startlinecolor\":\"#2a3f5f\"},\"type\":\"carpet\"}],\"table\":[{\"cells\":{\"fill\":{\"color\":\"#EBF0F8\"},\"line\":{\"color\":\"white\"}},\"header\":{\"fill\":{\"color\":\"#C8D4E3\"},\"line\":{\"color\":\"white\"}},\"type\":\"table\"}],\"barpolar\":[{\"marker\":{\"line\":{\"color\":\"#E5ECF6\",\"width\":0.5},\"pattern\":{\"fillmode\":\"overlay\",\"size\":10,\"solidity\":0.2}},\"type\":\"barpolar\"}],\"pie\":[{\"automargin\":true,\"type\":\"pie\"}]},\"layout\":{\"autotypenumbers\":\"strict\",\"colorway\":[\"#636efa\",\"#EF553B\",\"#00cc96\",\"#ab63fa\",\"#FFA15A\",\"#19d3f3\",\"#FF6692\",\"#B6E880\",\"#FF97FF\",\"#FECB52\"],\"font\":{\"color\":\"#2a3f5f\"},\"hovermode\":\"closest\",\"hoverlabel\":{\"align\":\"left\"},\"paper_bgcolor\":\"white\",\"plot_bgcolor\":\"#E5ECF6\",\"polar\":{\"bgcolor\":\"#E5ECF6\",\"angularaxis\":{\"gridcolor\":\"white\",\"linecolor\":\"white\",\"ticks\":\"\"},\"radialaxis\":{\"gridcolor\":\"white\",\"linecolor\":\"white\",\"ticks\":\"\"}},\"ternary\":{\"bgcolor\":\"#E5ECF6\",\"aaxis\":{\"gridcolor\":\"white\",\"linecolor\":\"white\",\"ticks\":\"\"},\"baxis\":{\"gridcolor\":\"white\",\"linecolor\":\"white\",\"ticks\":\"\"},\"caxis\":{\"gridcolor\":\"white\",\"linecolor\":\"white\",\"ticks\":\"\"}},\"coloraxis\":{\"colorbar\":{\"outlinewidth\":0,\"ticks\":\"\"}},\"colorscale\":{\"sequential\":[[0.0,\"#0d0887\"],[0.1111111111111111,\"#46039f\"],[0.2222222222222222,\"#7201a8\"],[0.3333333333333333,\"#9c179e\"],[0.4444444444444444,\"#bd3786\"],[0.5555555555555556,\"#d8576b\"],[0.6666666666666666,\"#ed7953\"],[0.7777777777777778,\"#fb9f3a\"],[0.8888888888888888,\"#fdca26\"],[1.0,\"#f0f921\"]],\"sequentialminus\":[[0.0,\"#0d0887\"],[0.1111111111111111,\"#46039f\"],[0.2222222222222222,\"#7201a8\"],[0.3333333333333333,\"#9c179e\"],[0.4444444444444444,\"#bd3786\"],[0.5555555555555556,\"#d8576b\"],[0.6666666666666666,\"#ed7953\"],[0.7777777777777778,\"#fb9f3a\"],[0.8888888888888888,\"#fdca26\"],[1.0,\"#f0f921\"]],\"diverging\":[[0,\"#8e0152\"],[0.1,\"#c51b7d\"],[0.2,\"#de77ae\"],[0.3,\"#f1b6da\"],[0.4,\"#fde0ef\"],[0.5,\"#f7f7f7\"],[0.6,\"#e6f5d0\"],[0.7,\"#b8e186\"],[0.8,\"#7fbc41\"],[0.9,\"#4d9221\"],[1,\"#276419\"]]},\"xaxis\":{\"gridcolor\":\"white\",\"linecolor\":\"white\",\"ticks\":\"\",\"title\":{\"standoff\":15},\"zerolinecolor\":\"white\",\"automargin\":true,\"zerolinewidth\":2},\"yaxis\":{\"gridcolor\":\"white\",\"linecolor\":\"white\",\"ticks\":\"\",\"title\":{\"standoff\":15},\"zerolinecolor\":\"white\",\"automargin\":true,\"zerolinewidth\":2},\"scene\":{\"xaxis\":{\"backgroundcolor\":\"#E5ECF6\",\"gridcolor\":\"white\",\"linecolor\":\"white\",\"showbackground\":true,\"ticks\":\"\",\"zerolinecolor\":\"white\",\"gridwidth\":2},\"yaxis\":{\"backgroundcolor\":\"#E5ECF6\",\"gridcolor\":\"white\",\"linecolor\":\"white\",\"showbackground\":true,\"ticks\":\"\",\"zerolinecolor\":\"white\",\"gridwidth\":2},\"zaxis\":{\"backgroundcolor\":\"#E5ECF6\",\"gridcolor\":\"white\",\"linecolor\":\"white\",\"showbackground\":true,\"ticks\":\"\",\"zerolinecolor\":\"white\",\"gridwidth\":2}},\"shapedefaults\":{\"line\":{\"color\":\"#2a3f5f\"}},\"annotationdefaults\":{\"arrowcolor\":\"#2a3f5f\",\"arrowhead\":0,\"arrowwidth\":1},\"geo\":{\"bgcolor\":\"white\",\"landcolor\":\"#E5ECF6\",\"subunitcolor\":\"white\",\"showland\":true,\"showlakes\":true,\"lakecolor\":\"white\"},\"title\":{\"x\":0.05},\"mapbox\":{\"style\":\"light\"}}},\"xaxis\":{\"anchor\":\"y\",\"domain\":[0.0,1.0],\"matches\":\"x2\",\"showticklabels\":false,\"rangeslider\":{\"visible\":false}},\"yaxis\":{\"anchor\":\"x\",\"domain\":[0.24,1.0],\"title\":{\"text\":\"Price\"}},\"xaxis2\":{\"anchor\":\"y2\",\"domain\":[0.0,1.0],\"title\":{\"text\":\"Time\"}},\"yaxis2\":{\"anchor\":\"x2\",\"domain\":[0.0,0.19],\"title\":{\"text\":\"Volume\"}}},                        {\"responsive\": true}                    ).then(function(){\n",
       "                            \n",
       "var gd = document.getElementById('73c0cafc-c8f1-466a-81a6-0b33442d3b60');\n",
       "var x = new MutationObserver(function (mutations, observer) {{\n",
       "        var display = window.getComputedStyle(gd).display;\n",
       "        if (!display || display === 'none') {{\n",
       "            console.log([gd, 'removed!']);\n",
       "            Plotly.purge(gd);\n",
       "            observer.disconnect();\n",
       "        }}\n",
       "}});\n",
       "\n",
       "// Listen for the removal of the full notebook cells\n",
       "var notebookContainer = gd.closest('#notebook-container');\n",
       "if (notebookContainer) {{\n",
       "    x.observe(notebookContainer, {childList: true});\n",
       "}}\n",
       "\n",
       "// Listen for the clearing of the current output cell\n",
       "var outputEl = gd.closest('.output');\n",
       "if (outputEl) {{\n",
       "    x.observe(outputEl, {childList: true});\n",
       "}}\n",
       "\n",
       "                        })                };                });            </script>        </div>"
      ]
     },
     "metadata": {},
     "output_type": "display_data"
    },
    {
     "data": {
      "application/javascript": [
       "\n",
       "            setTimeout(function() {\n",
       "                var nbb_cell_id = 120;\n",
       "                var nbb_unformatted_code = \"fig = make_subplots(\\n    rows=2, cols=1, shared_xaxes=True, vertical_spacing=0.05, row_heights=[200, 50]\\n)\\nfig.add_trace(\\n    go.Candlestick(\\n        x=df[\\\"Time\\\"],\\n        open=df[\\\"Open\\\"],\\n        high=df[\\\"High\\\"],\\n        low=df[\\\"Low\\\"],\\n        close=df[\\\"Close\\\"],\\n        name=\\\"Candlestick\\\",\\n    ),\\n    row=1,\\n    col=1,\\n)\\nfig.update_layout(xaxis_rangeslider_visible=False)\\nfig.add_trace(\\n    go.Scatter(\\n        x=df[\\\"Time\\\"],\\n        y=df[\\\"RAC\\\"],\\n        line=dict(color=\\\"black\\\", width=2, dash=\\\"dot\\\"),\\n        name=\\\"RAC\\\",\\n    ),\\n    row=1,\\n    col=1,\\n)\\nfig.add_trace(\\n    go.Bar(\\n        x=df[\\\"Time\\\"],\\n        y=df[\\\"Volume\\\"],\\n        marker=dict(color=df[\\\"Volume\\\"], colorscale=\\\"Cividis_r\\\"),\\n        name=\\\"Volumen\\\",\\n    ),\\n    row=2,\\n    col=1,\\n)\\nfig[\\\"layout\\\"][\\\"xaxis2\\\"][\\\"title\\\"] = \\\"Time\\\"\\nfig[\\\"layout\\\"][\\\"yaxis\\\"][\\\"title\\\"] = \\\"Price\\\"\\nfig[\\\"layout\\\"][\\\"yaxis2\\\"][\\\"title\\\"] = \\\"Volume\\\"\\nfig.show()\";\n",
       "                var nbb_formatted_code = \"fig = make_subplots(\\n    rows=2, cols=1, shared_xaxes=True, vertical_spacing=0.05, row_heights=[200, 50]\\n)\\nfig.add_trace(\\n    go.Candlestick(\\n        x=df[\\\"Time\\\"],\\n        open=df[\\\"Open\\\"],\\n        high=df[\\\"High\\\"],\\n        low=df[\\\"Low\\\"],\\n        close=df[\\\"Close\\\"],\\n        name=\\\"Candlestick\\\",\\n    ),\\n    row=1,\\n    col=1,\\n)\\nfig.update_layout(xaxis_rangeslider_visible=False)\\nfig.add_trace(\\n    go.Scatter(\\n        x=df[\\\"Time\\\"],\\n        y=df[\\\"RAC\\\"],\\n        line=dict(color=\\\"black\\\", width=2, dash=\\\"dot\\\"),\\n        name=\\\"RAC\\\",\\n    ),\\n    row=1,\\n    col=1,\\n)\\nfig.add_trace(\\n    go.Bar(\\n        x=df[\\\"Time\\\"],\\n        y=df[\\\"Volume\\\"],\\n        marker=dict(color=df[\\\"Volume\\\"], colorscale=\\\"Cividis_r\\\"),\\n        name=\\\"Volumen\\\",\\n    ),\\n    row=2,\\n    col=1,\\n)\\nfig[\\\"layout\\\"][\\\"xaxis2\\\"][\\\"title\\\"] = \\\"Time\\\"\\nfig[\\\"layout\\\"][\\\"yaxis\\\"][\\\"title\\\"] = \\\"Price\\\"\\nfig[\\\"layout\\\"][\\\"yaxis2\\\"][\\\"title\\\"] = \\\"Volume\\\"\\nfig.show()\";\n",
       "                var nbb_cells = Jupyter.notebook.get_cells();\n",
       "                for (var i = 0; i < nbb_cells.length; ++i) {\n",
       "                    if (nbb_cells[i].input_prompt_number == nbb_cell_id) {\n",
       "                        if (nbb_cells[i].get_text() == nbb_unformatted_code) {\n",
       "                             nbb_cells[i].set_text(nbb_formatted_code);\n",
       "                        }\n",
       "                        break;\n",
       "                    }\n",
       "                }\n",
       "            }, 500);\n",
       "            "
      ],
      "text/plain": [
       "<IPython.core.display.Javascript object>"
      ]
     },
     "metadata": {},
     "output_type": "display_data"
    }
   ],
   "source": [
    "fig = make_subplots(\n",
    "    rows=2, cols=1, shared_xaxes=True, vertical_spacing=0.05, row_heights=[200, 50]\n",
    ")\n",
    "fig.add_trace(\n",
    "    go.Candlestick(\n",
    "        x=df[\"Time\"],\n",
    "        open=df[\"Open\"],\n",
    "        high=df[\"High\"],\n",
    "        low=df[\"Low\"],\n",
    "        close=df[\"Close\"],\n",
    "        name=\"Candlestick\",\n",
    "    ),\n",
    "    row=1,\n",
    "    col=1,\n",
    ")\n",
    "fig.update_layout(xaxis_rangeslider_visible=False)\n",
    "fig.add_trace(\n",
    "    go.Scatter(\n",
    "        x=df[\"Time\"],\n",
    "        y=df[\"RAC\"],\n",
    "        line=dict(color=\"black\", width=2, dash=\"dot\"),\n",
    "        name=\"RAC\",\n",
    "    ),\n",
    "    row=1,\n",
    "    col=1,\n",
    ")\n",
    "fig.add_trace(\n",
    "    go.Bar(\n",
    "        x=df[\"Time\"],\n",
    "        y=df[\"Volume\"],\n",
    "        marker=dict(color=df[\"Volume\"], colorscale=\"Cividis_r\"),\n",
    "        name=\"Volumen\",\n",
    "    ),\n",
    "    row=2,\n",
    "    col=1,\n",
    ")\n",
    "fig[\"layout\"][\"xaxis2\"][\"title\"] = \"Time\"\n",
    "fig[\"layout\"][\"yaxis\"][\"title\"] = \"Price\"\n",
    "fig[\"layout\"][\"yaxis2\"][\"title\"] = \"Volume\"\n",
    "fig.show()"
   ]
  },
  {
   "cell_type": "code",
   "execution_count": null,
   "id": "1ba72e03",
   "metadata": {},
   "outputs": [],
   "source": []
  },
  {
   "cell_type": "code",
   "execution_count": null,
   "id": "0e9c9693",
   "metadata": {},
   "outputs": [],
   "source": []
  }
 ],
 "metadata": {
  "kernelspec": {
   "display_name": "Python 3 (ipykernel)",
   "language": "python",
   "name": "python3"
  },
  "language_info": {
   "codemirror_mode": {
    "name": "ipython",
    "version": 3
   },
   "file_extension": ".py",
   "mimetype": "text/x-python",
   "name": "python",
   "nbconvert_exporter": "python",
   "pygments_lexer": "ipython3",
   "version": "3.8.10"
  }
 },
 "nbformat": 4,
 "nbformat_minor": 5
}
